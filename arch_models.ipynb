{
 "cells": [
  {
   "cell_type": "code",
   "execution_count": 1,
   "id": "2e4c13bf",
   "metadata": {},
   "outputs": [],
   "source": [
    "import pandas as pd\n",
    "import numpy as np\n",
    "import matplotlib.pyplot as plt\n",
    "import statsmodels.graphics.tsaplots as sgt\n",
    "import warnings\n",
    "warnings.filterwarnings(\"ignore\")"
   ]
  },
  {
   "cell_type": "markdown",
   "id": "fc02e247",
   "metadata": {},
   "source": [
    "#### Data Description\n",
    "**All values are the price of the stock at close time, in dollars $ from 1994 to 2018**\n",
    " - 'ftse' is a share index of the top 100 companies listed on the London Stock Exchange"
   ]
  },
  {
   "cell_type": "code",
   "execution_count": 2,
   "id": "8d8c3f2e",
   "metadata": {},
   "outputs": [],
   "source": [
    "raw_csv_data = pd.read_csv(\"datasets/ftse.csv\")                           #reading the csv file\n",
    "df_comp=raw_csv_data.copy()\n",
    "df_comp.date = pd.to_datetime(df_comp.date, dayfirst = True)   #converting to date format\n",
    "df_comp.set_index(\"date\", inplace=True)                        #Setting the DataFrame index using existing date columns\n",
    "df_comp=df_comp.fillna(method=\"ffill\")                         #filling space as Null"
   ]
  },
  {
   "cell_type": "code",
   "execution_count": 3,
   "id": "783e73c4",
   "metadata": {},
   "outputs": [
    {
     "data": {
      "text/html": [
       "<div>\n",
       "<style scoped>\n",
       "    .dataframe tbody tr th:only-of-type {\n",
       "        vertical-align: middle;\n",
       "    }\n",
       "\n",
       "    .dataframe tbody tr th {\n",
       "        vertical-align: top;\n",
       "    }\n",
       "\n",
       "    .dataframe thead th {\n",
       "        text-align: right;\n",
       "    }\n",
       "</style>\n",
       "<table border=\"1\" class=\"dataframe\">\n",
       "  <thead>\n",
       "    <tr style=\"text-align: right;\">\n",
       "      <th></th>\n",
       "      <th>market_value</th>\n",
       "    </tr>\n",
       "    <tr>\n",
       "      <th>date</th>\n",
       "      <th></th>\n",
       "    </tr>\n",
       "  </thead>\n",
       "  <tbody>\n",
       "    <tr>\n",
       "      <th>1994-01-07</th>\n",
       "      <td>3445.980000</td>\n",
       "    </tr>\n",
       "    <tr>\n",
       "      <th>1994-01-10</th>\n",
       "      <td>3440.580000</td>\n",
       "    </tr>\n",
       "    <tr>\n",
       "      <th>1994-01-11</th>\n",
       "      <td>3413.770000</td>\n",
       "    </tr>\n",
       "    <tr>\n",
       "      <th>1994-01-12</th>\n",
       "      <td>3372.020000</td>\n",
       "    </tr>\n",
       "    <tr>\n",
       "      <th>1994-01-13</th>\n",
       "      <td>3360.010000</td>\n",
       "    </tr>\n",
       "    <tr>\n",
       "      <th>...</th>\n",
       "      <td>...</td>\n",
       "    </tr>\n",
       "    <tr>\n",
       "      <th>2018-01-23</th>\n",
       "      <td>7731.827774</td>\n",
       "    </tr>\n",
       "    <tr>\n",
       "      <th>2018-01-24</th>\n",
       "      <td>7643.428966</td>\n",
       "    </tr>\n",
       "    <tr>\n",
       "      <th>2018-01-25</th>\n",
       "      <td>7615.839954</td>\n",
       "    </tr>\n",
       "    <tr>\n",
       "      <th>2018-01-26</th>\n",
       "      <td>7665.541292</td>\n",
       "    </tr>\n",
       "    <tr>\n",
       "      <th>2018-01-29</th>\n",
       "      <td>7671.533300</td>\n",
       "    </tr>\n",
       "  </tbody>\n",
       "</table>\n",
       "<p>6269 rows × 1 columns</p>\n",
       "</div>"
      ],
      "text/plain": [
       "            market_value\n",
       "date                    \n",
       "1994-01-07   3445.980000\n",
       "1994-01-10   3440.580000\n",
       "1994-01-11   3413.770000\n",
       "1994-01-12   3372.020000\n",
       "1994-01-13   3360.010000\n",
       "...                  ...\n",
       "2018-01-23   7731.827774\n",
       "2018-01-24   7643.428966\n",
       "2018-01-25   7615.839954\n",
       "2018-01-26   7665.541292\n",
       "2018-01-29   7671.533300\n",
       "\n",
       "[6269 rows x 1 columns]"
      ]
     },
     "execution_count": 3,
     "metadata": {},
     "output_type": "execute_result"
    }
   ],
   "source": [
    "df_comp"
   ]
  },
  {
   "cell_type": "code",
   "execution_count": 4,
   "id": "ec67ace5",
   "metadata": {},
   "outputs": [],
   "source": [
    "size = int(len(df_comp)*0.8)                               #spliting train test data\n",
    "df, df_test = df_comp.iloc[:size], df_comp.iloc[size:]   "
   ]
  },
  {
   "cell_type": "code",
   "execution_count": 5,
   "id": "bab25219",
   "metadata": {},
   "outputs": [],
   "source": [
    "#Creating Returns\n",
    "df['returns'] = df.market_value.pct_change(1)*100  #Percentage change between the current and a prior element\n",
    "df_test['returns'] = df_test.market_value.pct_change(1)*100\n",
    "#Creating Squared Returns\n",
    "df['sq_returns'] = df.returns.mul(df.returns)"
   ]
  },
  {
   "cell_type": "code",
   "execution_count": 6,
   "id": "e42ce711",
   "metadata": {},
   "outputs": [
    {
     "name": "stdout",
     "output_type": "stream",
     "text": [
      "Test Statistic                -1.278422e+01\n",
      "p-value                        7.305352e-24\n",
      "Lags Used                      3.200000e+01\n",
      "Number of observations Used    4.981000e+03\n",
      "dtype: float64\n"
     ]
    }
   ],
   "source": [
    "#Test for stationary\n",
    "from statsmodels.tsa.stattools import adfuller\n",
    "def adfuller_test(ts):\n",
    "    adfuller_result = adfuller(ts,autolag=None)\n",
    "    adfuller_out=pd.Series(adfuller_result[0:4],index=['Test Statistic','p-value','Lags Used','Number of observations Used'])\n",
    "    print(adfuller_out)\n",
    "adfuller_test(df.returns[1:])"
   ]
  },
  {
   "cell_type": "markdown",
   "id": "8be1fb43",
   "metadata": {},
   "source": [
    "#### The p-value is lesser than 0.05 so we say that the data is stationary"
   ]
  },
  {
   "cell_type": "code",
   "execution_count": 7,
   "id": "5d875f6e",
   "metadata": {},
   "outputs": [
    {
     "data": {
      "image/png": "[encoded data removed]",
      "text/plain": [
       "<Figure size 1440x360 with 1 Axes>"
      ]
     },
     "metadata": {
      "needs_background": "light"
     },
     "output_type": "display_data"
    }
   ],
   "source": [
    "#Returns vs Squared Returns\n",
    "df.returns.plot(figsize=(20,5))\n",
    "plt.title(\"Returns\", size = 24)\n",
    "plt.show()"
   ]
  },
  {
   "cell_type": "code",
   "execution_count": 8,
   "id": "84c18212",
   "metadata": {},
   "outputs": [
    {
     "data": {
      "image/png": "[encoded data removed]",
      "text/plain": [
       "<Figure size 1440x360 with 1 Axes>"
      ]
     },
     "metadata": {
      "needs_background": "light"
     },
     "output_type": "display_data"
    }
   ],
   "source": [
    "df.sq_returns.plot(figsize=(20,5))\n",
    "plt.title(\"Volatility\", size = 24)\n",
    "plt.show()"
   ]
  },
  {
   "cell_type": "markdown",
   "id": "ea18f0e6",
   "metadata": {},
   "source": [
    "#### Between 2004 and 2006, the market returns has no significant variance so the volatility for that period is low.\n",
    "\n",
    "#### The jumps and drops are high in period 2008 to 2010 so we can see huge peak in volatility."
   ]
  },
  {
   "cell_type": "code",
   "execution_count": 9,
   "id": "c462847c",
   "metadata": {},
   "outputs": [
    {
     "data": {
      "image/png": "[encoded data removed]",
      "text/plain": [
       "<Figure size 432x288 with 1 Axes>"
      ]
     },
     "metadata": {
      "needs_background": "light"
     },
     "output_type": "display_data"
    }
   ],
   "source": [
    "sgt.plot_pacf(df.returns[1:], lags = 40, zero = False)\n",
    "plt.title(\"PACF of Returns\")\n",
    "plt.show()"
   ]
  },
  {
   "cell_type": "markdown",
   "id": "6be558ce",
   "metadata": {},
   "source": [
    "#### We can see several lags which are significant in the above graph. We will square the values and check again."
   ]
  },
  {
   "cell_type": "code",
   "execution_count": 10,
   "id": "a0b32c82",
   "metadata": {},
   "outputs": [
    {
     "data": {
      "image/png": "[encoded data removed]",
      "text/plain": [
       "<Figure size 432x288 with 1 Axes>"
      ]
     },
     "metadata": {
      "needs_background": "light"
     },
     "output_type": "display_data"
    }
   ],
   "source": [
    "sgt.plot_pacf(df.sq_returns[1:], lags = 40, zero = False)\n",
    "plt.title(\"PACF of Squared Returns\")\n",
    "plt.show()"
   ]
  },
  {
   "cell_type": "markdown",
   "id": "84fa7886",
   "metadata": {},
   "source": [
    "#### We can see first 6 lags are significant. High values signifies that there is huge short term trends in variance."
   ]
  },
  {
   "cell_type": "code",
   "execution_count": 11,
   "id": "795443ac",
   "metadata": {},
   "outputs": [
    {
     "name": "stdout",
     "output_type": "stream",
     "text": [
      "Iteration:      1,   Func. Count:      5,   Neg. LLF: 28798.757001180536\n",
      "Iteration:      2,   Func. Count:     13,   Neg. LLF: 12050.749558904736\n",
      "Iteration:      3,   Func. Count:     20,   Neg. LLF: 7799.7925599088085\n",
      "Iteration:      4,   Func. Count:     26,   Neg. LLF: 7651.690850735368\n",
      "Iteration:      5,   Func. Count:     30,   Neg. LLF: 7651.690841351308\n",
      "Iteration:      6,   Func. Count:     33,   Neg. LLF: 7651.690841351348\n",
      "Optimization terminated successfully    (Exit mode 0)\n",
      "            Current function value: 7651.690841351308\n",
      "            Iterations: 6\n",
      "            Function evaluations: 33\n",
      "            Gradient evaluations: 6\n"
     ]
    },
    {
     "data": {
      "text/html": [
       "<table class=\"simpletable\">\n",
       "<caption>Constant Mean - ARCH Model Results</caption>\n",
       "<tr>\n",
       "  <th>Dep. Variable:</th>       <td>returns</td>      <th>  R-squared:         </th>  <td>   0.000</td> \n",
       "</tr>\n",
       "<tr>\n",
       "  <th>Mean Model:</th>       <td>Constant Mean</td>   <th>  Adj. R-squared:    </th>  <td>   0.000</td> \n",
       "</tr>\n",
       "<tr>\n",
       "  <th>Vol Model:</th>            <td>ARCH</td>        <th>  Log-Likelihood:    </th> <td>  -7651.69</td>\n",
       "</tr>\n",
       "<tr>\n",
       "  <th>Distribution:</th>        <td>Normal</td>       <th>  AIC:               </th> <td>   15309.4</td>\n",
       "</tr>\n",
       "<tr>\n",
       "  <th>Method:</th>        <td>Maximum Likelihood</td> <th>  BIC:               </th> <td>   15328.9</td>\n",
       "</tr>\n",
       "<tr>\n",
       "  <th></th>                        <td></td>          <th>  No. Observations:  </th>    <td>5014</td>   \n",
       "</tr>\n",
       "<tr>\n",
       "  <th>Date:</th>           <td>Fri, Jan 28 2022</td>  <th>  Df Residuals:      </th>    <td>5013</td>   \n",
       "</tr>\n",
       "<tr>\n",
       "  <th>Time:</th>               <td>21:58:37</td>      <th>  Df Model:          </th>      <td>1</td>    \n",
       "</tr>\n",
       "</table>\n",
       "<table class=\"simpletable\">\n",
       "<caption>Mean Model</caption>\n",
       "<tr>\n",
       "   <td></td>     <th>coef</th>     <th>std err</th>      <th>t</th>       <th>P>|t|</th>     <th>95.0% Conf. Int.</th>   \n",
       "</tr>\n",
       "<tr>\n",
       "  <th>mu</th> <td>    0.0344</td> <td>1.602e-02</td> <td>    2.150</td> <td>3.157e-02</td> <td>[3.041e-03,6.585e-02]</td>\n",
       "</tr>\n",
       "</table>\n",
       "<table class=\"simpletable\">\n",
       "<caption>Volatility Model</caption>\n",
       "<tr>\n",
       "      <td></td>        <th>coef</th>     <th>std err</th>      <th>t</th>        <th>P>|t|</th>   <th>95.0% Conf. Int.</th> \n",
       "</tr>\n",
       "<tr>\n",
       "  <th>omega</th>    <td>    0.9192</td> <td>4.320e-02</td> <td>   21.277</td> <td>1.841e-100</td> <td>[  0.835,  1.004]</td>\n",
       "</tr>\n",
       "<tr>\n",
       "  <th>alpha[1]</th> <td>    0.3707</td> <td>5.078e-02</td> <td>    7.301</td>  <td>2.853e-13</td> <td>[  0.271,  0.470]</td>\n",
       "</tr>\n",
       "</table><br/><br/>Covariance estimator: robust"
      ],
      "text/plain": [
       "<class 'statsmodels.iolib.summary.Summary'>\n",
       "\"\"\"\n",
       "                      Constant Mean - ARCH Model Results                      \n",
       "==============================================================================\n",
       "Dep. Variable:                returns   R-squared:                       0.000\n",
       "Mean Model:             Constant Mean   Adj. R-squared:                  0.000\n",
       "Vol Model:                       ARCH   Log-Likelihood:               -7651.69\n",
       "Distribution:                  Normal   AIC:                           15309.4\n",
       "Method:            Maximum Likelihood   BIC:                           15328.9\n",
       "                                        No. Observations:                 5014\n",
       "Date:                Fri, Jan 28 2022   Df Residuals:                     5013\n",
       "Time:                        21:58:37   Df Model:                            1\n",
       "                                 Mean Model                                 \n",
       "============================================================================\n",
       "                 coef    std err          t      P>|t|      95.0% Conf. Int.\n",
       "----------------------------------------------------------------------------\n",
       "mu             0.0344  1.602e-02      2.150  3.157e-02 [3.041e-03,6.585e-02]\n",
       "                            Volatility Model                            \n",
       "========================================================================\n",
       "                 coef    std err          t      P>|t|  95.0% Conf. Int.\n",
       "------------------------------------------------------------------------\n",
       "omega          0.9192  4.320e-02     21.277 1.841e-100 [  0.835,  1.004]\n",
       "alpha[1]       0.3707  5.078e-02      7.301  2.853e-13 [  0.271,  0.470]\n",
       "========================================================================\n",
       "\n",
       "Covariance estimator: robust\n",
       "\"\"\""
      ]
     },
     "execution_count": 11,
     "metadata": {},
     "output_type": "execute_result"
    }
   ],
   "source": [
    "from arch import arch_model\n",
    "model_arch_1 = arch_model(df.returns[1:], mean = \"Constant\", vol = \"ARCH\", p = 1)\n",
    "results_arch_1 = model_arch_1.fit()\n",
    "results_arch_1.summary()"
   ]
  },
  {
   "cell_type": "markdown",
   "id": "2921b488",
   "metadata": {},
   "source": [
    "#### The python took only 6 steps to resolve so it is a simple model. The R-squared is zero because it cannot explain the variation from the mean and the residual values doent change by a constant. it is not used in ARCH model. The p-value is lesser than 0.05 for mu, omega and alpha[1] so we can say that all 3 co-efficients are significant "
   ]
  },
  {
   "cell_type": "code",
   "execution_count": 12,
   "id": "c986e42c",
   "metadata": {},
   "outputs": [
    {
     "name": "stdout",
     "output_type": "stream",
     "text": [
      "Iteration:      1,   Func. Count:      4,   Neg. LLF: 11604.311744959507\n",
      "Iteration:      2,   Func. Count:     10,   Neg. LLF: 7804.970330062723\n",
      "Iteration:      3,   Func. Count:     15,   Neg. LLF: 7654.533260279932\n",
      "Iteration:      4,   Func. Count:     18,   Neg. LLF: 7654.533254505231\n",
      "Iteration:      5,   Func. Count:     20,   Neg. LLF: 7654.533254505253\n",
      "Optimization terminated successfully    (Exit mode 0)\n",
      "            Current function value: 7654.533254505231\n",
      "            Iterations: 5\n",
      "            Function evaluations: 20\n",
      "            Gradient evaluations: 5\n"
     ]
    },
    {
     "data": {
      "text/html": [
       "<table class=\"simpletable\">\n",
       "<caption>Zero Mean - ARCH Model Results</caption>\n",
       "<tr>\n",
       "  <th>Dep. Variable:</th>       <td>returns</td>      <th>  R-squared:         </th>  <td>   0.000</td> \n",
       "</tr>\n",
       "<tr>\n",
       "  <th>Mean Model:</th>         <td>Zero Mean</td>     <th>  Adj. R-squared:    </th>  <td>   0.000</td> \n",
       "</tr>\n",
       "<tr>\n",
       "  <th>Vol Model:</th>            <td>ARCH</td>        <th>  Log-Likelihood:    </th> <td>  -7654.53</td>\n",
       "</tr>\n",
       "<tr>\n",
       "  <th>Distribution:</th>        <td>Normal</td>       <th>  AIC:               </th> <td>   15313.1</td>\n",
       "</tr>\n",
       "<tr>\n",
       "  <th>Method:</th>        <td>Maximum Likelihood</td> <th>  BIC:               </th> <td>   15326.1</td>\n",
       "</tr>\n",
       "<tr>\n",
       "  <th></th>                        <td></td>          <th>  No. Observations:  </th>    <td>5014</td>   \n",
       "</tr>\n",
       "<tr>\n",
       "  <th>Date:</th>           <td>Fri, Jan 28 2022</td>  <th>  Df Residuals:      </th>    <td>5014</td>   \n",
       "</tr>\n",
       "<tr>\n",
       "  <th>Time:</th>               <td>21:58:37</td>      <th>  Df Model:          </th>      <td>0</td>    \n",
       "</tr>\n",
       "</table>\n",
       "<table class=\"simpletable\">\n",
       "<caption>Volatility Model</caption>\n",
       "<tr>\n",
       "      <td></td>        <th>coef</th>     <th>std err</th>      <th>t</th>        <th>P>|t|</th>   <th>95.0% Conf. Int.</th> \n",
       "</tr>\n",
       "<tr>\n",
       "  <th>omega</th>    <td>    0.9229</td> <td>4.343e-02</td> <td>   21.251</td> <td>3.193e-100</td> <td>[  0.838,  1.008]</td>\n",
       "</tr>\n",
       "<tr>\n",
       "  <th>alpha[1]</th> <td>    0.3665</td> <td>4.984e-02</td> <td>    7.353</td>  <td>1.945e-13</td> <td>[  0.269,  0.464]</td>\n",
       "</tr>\n",
       "</table><br/><br/>Covariance estimator: robust"
      ],
      "text/plain": [
       "<class 'statsmodels.iolib.summary.Summary'>\n",
       "\"\"\"\n",
       "                        Zero Mean - ARCH Model Results                        \n",
       "==============================================================================\n",
       "Dep. Variable:                returns   R-squared:                       0.000\n",
       "Mean Model:                 Zero Mean   Adj. R-squared:                  0.000\n",
       "Vol Model:                       ARCH   Log-Likelihood:               -7654.53\n",
       "Distribution:                  Normal   AIC:                           15313.1\n",
       "Method:            Maximum Likelihood   BIC:                           15326.1\n",
       "                                        No. Observations:                 5014\n",
       "Date:                Fri, Jan 28 2022   Df Residuals:                     5014\n",
       "Time:                        21:58:37   Df Model:                            0\n",
       "                            Volatility Model                            \n",
       "========================================================================\n",
       "                 coef    std err          t      P>|t|  95.0% Conf. Int.\n",
       "------------------------------------------------------------------------\n",
       "omega          0.9229  4.343e-02     21.251 3.193e-100 [  0.838,  1.008]\n",
       "alpha[1]       0.3665  4.984e-02      7.353  1.945e-13 [  0.269,  0.464]\n",
       "========================================================================\n",
       "\n",
       "Covariance estimator: robust\n",
       "\"\"\""
      ]
     },
     "execution_count": 12,
     "metadata": {},
     "output_type": "execute_result"
    }
   ],
   "source": [
    "model_arch_2 = arch_model(df.returns[1:], mean = \"Zero\", vol = \"ARCH\", p = 1)\n",
    "results_arch_2 = model_arch_2.fit()\n",
    "results_arch_2.summary()"
   ]
  },
  {
   "cell_type": "markdown",
   "id": "500332f3",
   "metadata": {},
   "source": [
    "#### We keep mean zero and we could find that mean model isn't showed in summary and the log-likelihood is slightly lesser than mean constant model. "
   ]
  },
  {
   "cell_type": "code",
   "execution_count": 13,
   "id": "e64b778e",
   "metadata": {},
   "outputs": [
    {
     "name": "stdout",
     "output_type": "stream",
     "text": [
      "Iteration:      1,   Func. Count:      6,   Neg. LLF: 34209.2429534143\n",
      "Iteration:      2,   Func. Count:     15,   Neg. LLF: 11077.83697973076\n",
      "Iteration:      3,   Func. Count:     24,   Neg. LLF: 7917.171941594852\n",
      "Iteration:      4,   Func. Count:     31,   Neg. LLF: 7632.849360365768\n",
      "Iteration:      5,   Func. Count:     37,   Neg. LLF: 9450.586774626132\n",
      "Iteration:      6,   Func. Count:     44,   Neg. LLF: 7440.401673427719\n",
      "Iteration:      7,   Func. Count:     49,   Neg. LLF: 7440.4013432982265\n",
      "Iteration:      8,   Func. Count:     54,   Neg. LLF: 7440.401321890164\n",
      "Iteration:      9,   Func. Count:     58,   Neg. LLF: 7440.4013218901455\n",
      "Optimization terminated successfully    (Exit mode 0)\n",
      "            Current function value: 7440.401321890164\n",
      "            Iterations: 9\n",
      "            Function evaluations: 58\n",
      "            Gradient evaluations: 9\n"
     ]
    },
    {
     "data": {
      "text/html": [
       "<table class=\"simpletable\">\n",
       "<caption>Constant Mean - ARCH Model Results</caption>\n",
       "<tr>\n",
       "  <th>Dep. Variable:</th>       <td>returns</td>      <th>  R-squared:         </th>  <td>   0.000</td> \n",
       "</tr>\n",
       "<tr>\n",
       "  <th>Mean Model:</th>       <td>Constant Mean</td>   <th>  Adj. R-squared:    </th>  <td>   0.000</td> \n",
       "</tr>\n",
       "<tr>\n",
       "  <th>Vol Model:</th>            <td>ARCH</td>        <th>  Log-Likelihood:    </th> <td>  -7440.40</td>\n",
       "</tr>\n",
       "<tr>\n",
       "  <th>Distribution:</th>        <td>Normal</td>       <th>  AIC:               </th> <td>   14888.8</td>\n",
       "</tr>\n",
       "<tr>\n",
       "  <th>Method:</th>        <td>Maximum Likelihood</td> <th>  BIC:               </th> <td>   14914.9</td>\n",
       "</tr>\n",
       "<tr>\n",
       "  <th></th>                        <td></td>          <th>  No. Observations:  </th>    <td>5014</td>   \n",
       "</tr>\n",
       "<tr>\n",
       "  <th>Date:</th>           <td>Fri, Jan 28 2022</td>  <th>  Df Residuals:      </th>    <td>5013</td>   \n",
       "</tr>\n",
       "<tr>\n",
       "  <th>Time:</th>               <td>21:58:37</td>      <th>  Df Model:          </th>      <td>1</td>    \n",
       "</tr>\n",
       "</table>\n",
       "<table class=\"simpletable\">\n",
       "<caption>Mean Model</caption>\n",
       "<tr>\n",
       "   <td></td>     <th>coef</th>     <th>std err</th>      <th>t</th>       <th>P>|t|</th>     <th>95.0% Conf. Int.</th>   \n",
       "</tr>\n",
       "<tr>\n",
       "  <th>mu</th> <td>    0.0488</td> <td>1.401e-02</td> <td>    3.481</td> <td>5.001e-04</td> <td>[2.130e-02,7.622e-02]</td>\n",
       "</tr>\n",
       "</table>\n",
       "<table class=\"simpletable\">\n",
       "<caption>Volatility Model</caption>\n",
       "<tr>\n",
       "      <td></td>        <th>coef</th>     <th>std err</th>      <th>t</th>       <th>P>|t|</th>   <th>95.0% Conf. Int.</th> \n",
       "</tr>\n",
       "<tr>\n",
       "  <th>omega</th>    <td>    0.6960</td> <td>3.569e-02</td> <td>   19.502</td> <td>1.060e-84</td> <td>[  0.626,  0.766]</td>\n",
       "</tr>\n",
       "<tr>\n",
       "  <th>alpha[1]</th> <td>    0.2214</td> <td>3.493e-02</td> <td>    6.339</td> <td>2.306e-10</td> <td>[  0.153,  0.290]</td>\n",
       "</tr>\n",
       "<tr>\n",
       "  <th>alpha[2]</th> <td>    0.2791</td> <td>3.643e-02</td> <td>    7.663</td> <td>1.813e-14</td> <td>[  0.208,  0.351]</td>\n",
       "</tr>\n",
       "</table><br/><br/>Covariance estimator: robust"
      ],
      "text/plain": [
       "<class 'statsmodels.iolib.summary.Summary'>\n",
       "\"\"\"\n",
       "                      Constant Mean - ARCH Model Results                      \n",
       "==============================================================================\n",
       "Dep. Variable:                returns   R-squared:                       0.000\n",
       "Mean Model:             Constant Mean   Adj. R-squared:                  0.000\n",
       "Vol Model:                       ARCH   Log-Likelihood:               -7440.40\n",
       "Distribution:                  Normal   AIC:                           14888.8\n",
       "Method:            Maximum Likelihood   BIC:                           14914.9\n",
       "                                        No. Observations:                 5014\n",
       "Date:                Fri, Jan 28 2022   Df Residuals:                     5013\n",
       "Time:                        21:58:37   Df Model:                            1\n",
       "                                 Mean Model                                 \n",
       "============================================================================\n",
       "                 coef    std err          t      P>|t|      95.0% Conf. Int.\n",
       "----------------------------------------------------------------------------\n",
       "mu             0.0488  1.401e-02      3.481  5.001e-04 [2.130e-02,7.622e-02]\n",
       "                            Volatility Model                            \n",
       "========================================================================\n",
       "                 coef    std err          t      P>|t|  95.0% Conf. Int.\n",
       "------------------------------------------------------------------------\n",
       "omega          0.6960  3.569e-02     19.502  1.060e-84 [  0.626,  0.766]\n",
       "alpha[1]       0.2214  3.493e-02      6.339  2.306e-10 [  0.153,  0.290]\n",
       "alpha[2]       0.2791  3.643e-02      7.663  1.813e-14 [  0.208,  0.351]\n",
       "========================================================================\n",
       "\n",
       "Covariance estimator: robust\n",
       "\"\"\""
      ]
     },
     "execution_count": 13,
     "metadata": {},
     "output_type": "execute_result"
    }
   ],
   "source": [
    "model_arch_3 = arch_model(df.returns[1:], mean = \"Constant\", vol = \"ARCH\", p = 2)\n",
    "results_arch_3 = model_arch_3.fit()\n",
    "results_arch_3.summary()"
   ]
  },
  {
   "cell_type": "markdown",
   "id": "3158fb52",
   "metadata": {},
   "source": [
    "#### Now we increased the lag by 1 and we get a extra coefficient so the model runs 9 iteration so we can say it gets little complex when u increase the lags.\n",
    "\n",
    "#### The log-likelihood increase so we say that this model is better than previous model"
   ]
  },
  {
   "cell_type": "markdown",
   "id": "9dc3cae4",
   "metadata": {},
   "source": [
    "#### We repeat the ARCH model as increasing the lags and we find that the log-likelihood increases. This is trial and error so we need to run multiple times to find the suitable lag. We need to stop when the model log-likelihood doesnt increase significantly"
   ]
  },
  {
   "cell_type": "code",
   "execution_count": 14,
   "id": "e3cc4890",
   "metadata": {},
   "outputs": [
    {
     "name": "stdout",
     "output_type": "stream",
     "text": [
      "Iteration:      1,   Func. Count:     19,   Neg. LLF: 121286.13354692188\n",
      "Iteration:      2,   Func. Count:     41,   Neg. LLF: 2571994.14026259\n",
      "Iteration:      3,   Func. Count:     60,   Neg. LLF: 64510.81817862583\n",
      "Iteration:      4,   Func. Count:     79,   Neg. LLF: 8810.052629531001\n",
      "Iteration:      5,   Func. Count:    100,   Neg. LLF: 10050.702879007553\n",
      "Iteration:      6,   Func. Count:    120,   Neg. LLF: 23477.144487758764\n",
      "Iteration:      7,   Func. Count:    140,   Neg. LLF: 13699.63162819725\n",
      "Iteration:      8,   Func. Count:    160,   Neg. LLF: 9316.801883812586\n",
      "Iteration:      9,   Func. Count:    180,   Neg. LLF: 8947.293743860275\n",
      "Iteration:     10,   Func. Count:    200,   Neg. LLF: 9432.941441775602\n",
      "Iteration:     11,   Func. Count:    220,   Neg. LLF: 7653.270298892905\n",
      "Iteration:     12,   Func. Count:    240,   Neg. LLF: 7645.705722977408\n",
      "Iteration:     13,   Func. Count:    260,   Neg. LLF: 8028.430013762863\n",
      "Iteration:     14,   Func. Count:    280,   Neg. LLF: 7218.269414019936\n",
      "Iteration:     15,   Func. Count:    300,   Neg. LLF: 7367.445018934954\n",
      "Iteration:     16,   Func. Count:    320,   Neg. LLF: 7333.764642049862\n",
      "Iteration:     17,   Func. Count:    340,   Neg. LLF: 7133.593928160513\n",
      "Iteration:     18,   Func. Count:    360,   Neg. LLF: 7010.116655209145\n",
      "Iteration:     19,   Func. Count:    379,   Neg. LLF: 7012.7687104845045\n",
      "Iteration:     20,   Func. Count:    398,   Neg. LLF: 7097.605638596689\n",
      "Iteration:     21,   Func. Count:    418,   Neg. LLF: 7067.988685717328\n",
      "Iteration:     22,   Func. Count:    438,   Neg. LLF: 7041.773352476897\n",
      "Iteration:     23,   Func. Count:    458,   Neg. LLF: 6991.562937097602\n",
      "Iteration:     24,   Func. Count:    477,   Neg. LLF: 6988.157660335575\n",
      "Iteration:     25,   Func. Count:    496,   Neg. LLF: 6993.601512318635\n",
      "Iteration:     26,   Func. Count:    516,   Neg. LLF: 6972.813976596472\n",
      "Iteration:     27,   Func. Count:    535,   Neg. LLF: 6976.65491723754\n",
      "Iteration:     28,   Func. Count:    555,   Neg. LLF: 6972.352393007268\n",
      "Iteration:     29,   Func. Count:    574,   Neg. LLF: 6972.198262125743\n",
      "Iteration:     30,   Func. Count:    592,   Neg. LLF: 6972.197988245607\n",
      "Iteration:     31,   Func. Count:    610,   Neg. LLF: 6972.197971562288\n",
      "Iteration:     32,   Func. Count:    628,   Neg. LLF: 6972.19797103464\n",
      "Optimization terminated successfully    (Exit mode 0)\n",
      "            Current function value: 6972.19797103464\n",
      "            Iterations: 32\n",
      "            Function evaluations: 628\n",
      "            Gradient evaluations: 32\n"
     ]
    },
    {
     "data": {
      "text/html": [
       "<table class=\"simpletable\">\n",
       "<caption>Constant Mean - ARCH Model Results</caption>\n",
       "<tr>\n",
       "  <th>Dep. Variable:</th>       <td>returns</td>      <th>  R-squared:         </th>  <td>   0.000</td> \n",
       "</tr>\n",
       "<tr>\n",
       "  <th>Mean Model:</th>       <td>Constant Mean</td>   <th>  Adj. R-squared:    </th>  <td>   0.000</td> \n",
       "</tr>\n",
       "<tr>\n",
       "  <th>Vol Model:</th>            <td>ARCH</td>        <th>  Log-Likelihood:    </th> <td>  -6972.20</td>\n",
       "</tr>\n",
       "<tr>\n",
       "  <th>Distribution:</th>        <td>Normal</td>       <th>  AIC:               </th> <td>   13978.4</td>\n",
       "</tr>\n",
       "<tr>\n",
       "  <th>Method:</th>        <td>Maximum Likelihood</td> <th>  BIC:               </th> <td>   14089.2</td>\n",
       "</tr>\n",
       "<tr>\n",
       "  <th></th>                        <td></td>          <th>  No. Observations:  </th>    <td>5014</td>   \n",
       "</tr>\n",
       "<tr>\n",
       "  <th>Date:</th>           <td>Fri, Jan 28 2022</td>  <th>  Df Residuals:      </th>    <td>5013</td>   \n",
       "</tr>\n",
       "<tr>\n",
       "  <th>Time:</th>               <td>21:58:37</td>      <th>  Df Model:          </th>      <td>1</td>    \n",
       "</tr>\n",
       "</table>\n",
       "<table class=\"simpletable\">\n",
       "<caption>Mean Model</caption>\n",
       "<tr>\n",
       "   <td></td>     <th>coef</th>     <th>std err</th>      <th>t</th>       <th>P>|t|</th>     <th>95.0% Conf. Int.</th>   \n",
       "</tr>\n",
       "<tr>\n",
       "  <th>mu</th> <td>    0.0502</td> <td>1.203e-02</td> <td>    4.169</td> <td>3.060e-05</td> <td>[2.659e-02,7.376e-02]</td>\n",
       "</tr>\n",
       "</table>\n",
       "<table class=\"simpletable\">\n",
       "<caption>Volatility Model</caption>\n",
       "<tr>\n",
       "      <td></td>         <th>coef</th>     <th>std err</th>      <th>t</th>       <th>P>|t|</th>      <th>95.0% Conf. Int.</th>   \n",
       "</tr>\n",
       "<tr>\n",
       "  <th>omega</th>     <td>    0.1806</td> <td>2.251e-02</td> <td>    8.021</td> <td>1.045e-15</td>    <td>[  0.136,  0.225]</td>  \n",
       "</tr>\n",
       "<tr>\n",
       "  <th>alpha[1]</th>  <td>    0.0587</td> <td>1.759e-02</td> <td>    3.337</td> <td>8.464e-04</td>  <td>[2.423e-02,9.319e-02]</td>\n",
       "</tr>\n",
       "<tr>\n",
       "  <th>alpha[2]</th>  <td>    0.1147</td> <td>2.025e-02</td> <td>    5.661</td> <td>1.503e-08</td>   <td>[7.496e-02,  0.154]</td> \n",
       "</tr>\n",
       "<tr>\n",
       "  <th>alpha[3]</th>  <td>    0.1255</td> <td>2.587e-02</td> <td>    4.851</td> <td>1.231e-06</td>   <td>[7.478e-02,  0.176]</td> \n",
       "</tr>\n",
       "<tr>\n",
       "  <th>alpha[4]</th>  <td>    0.0813</td> <td>2.209e-02</td> <td>    3.680</td> <td>2.330e-04</td>   <td>[3.800e-02,  0.125]</td> \n",
       "</tr>\n",
       "<tr>\n",
       "  <th>alpha[5]</th>  <td>    0.0691</td> <td>1.726e-02</td> <td>    4.000</td> <td>6.322e-05</td>   <td>[3.522e-02,  0.103]</td> \n",
       "</tr>\n",
       "<tr>\n",
       "  <th>alpha[6]</th>  <td>    0.0836</td> <td>1.941e-02</td> <td>    4.308</td> <td>1.650e-05</td>   <td>[4.557e-02,  0.122]</td> \n",
       "</tr>\n",
       "<tr>\n",
       "  <th>alpha[7]</th>  <td>    0.0410</td> <td>1.867e-02</td> <td>    2.197</td> <td>2.805e-02</td>  <td>[4.417e-03,7.759e-02]</td>\n",
       "</tr>\n",
       "<tr>\n",
       "  <th>alpha[8]</th>  <td>    0.0630</td> <td>1.853e-02</td> <td>    3.399</td> <td>6.761e-04</td>  <td>[2.667e-02,9.931e-02]</td>\n",
       "</tr>\n",
       "<tr>\n",
       "  <th>alpha[9]</th>  <td>    0.0258</td> <td>1.702e-02</td> <td>    1.517</td> <td>    0.129</td> <td>[-7.545e-03,5.917e-02]</td>\n",
       "</tr>\n",
       "<tr>\n",
       "  <th>alpha[10]</th> <td>    0.0271</td> <td>1.572e-02</td> <td>    1.726</td> <td>8.437e-02</td> <td>[-3.680e-03,5.796e-02]</td>\n",
       "</tr>\n",
       "<tr>\n",
       "  <th>alpha[11]</th> <td>    0.0731</td> <td>1.766e-02</td> <td>    4.142</td> <td>3.438e-05</td>   <td>[3.854e-02,  0.108]</td> \n",
       "</tr>\n",
       "<tr>\n",
       "  <th>alpha[12]</th> <td>    0.0400</td> <td>1.902e-02</td> <td>    2.104</td> <td>3.537e-02</td>  <td>[2.742e-03,7.730e-02]</td>\n",
       "</tr>\n",
       "<tr>\n",
       "  <th>alpha[13]</th> <td>    0.0371</td> <td>1.439e-02</td> <td>    2.582</td> <td>9.836e-03</td>  <td>[8.945e-03,6.535e-02]</td>\n",
       "</tr>\n",
       "<tr>\n",
       "  <th>alpha[14]</th> <td>9.3411e-03</td> <td>1.465e-02</td> <td>    0.637</td> <td>    0.524</td> <td>[-1.938e-02,3.806e-02]</td>\n",
       "</tr>\n",
       "<tr>\n",
       "  <th>alpha[15]</th> <td>    0.0268</td> <td>1.359e-02</td> <td>    1.968</td> <td>4.909e-02</td>  <td>[1.062e-04,5.340e-02]</td>\n",
       "</tr>\n",
       "</table><br/><br/>Covariance estimator: robust"
      ],
      "text/plain": [
       "<class 'statsmodels.iolib.summary.Summary'>\n",
       "\"\"\"\n",
       "                      Constant Mean - ARCH Model Results                      \n",
       "==============================================================================\n",
       "Dep. Variable:                returns   R-squared:                       0.000\n",
       "Mean Model:             Constant Mean   Adj. R-squared:                  0.000\n",
       "Vol Model:                       ARCH   Log-Likelihood:               -6972.20\n",
       "Distribution:                  Normal   AIC:                           13978.4\n",
       "Method:            Maximum Likelihood   BIC:                           14089.2\n",
       "                                        No. Observations:                 5014\n",
       "Date:                Fri, Jan 28 2022   Df Residuals:                     5013\n",
       "Time:                        21:58:37   Df Model:                            1\n",
       "                                 Mean Model                                 \n",
       "============================================================================\n",
       "                 coef    std err          t      P>|t|      95.0% Conf. Int.\n",
       "----------------------------------------------------------------------------\n",
       "mu             0.0502  1.203e-02      4.169  3.060e-05 [2.659e-02,7.376e-02]\n",
       "                               Volatility Model                              \n",
       "=============================================================================\n",
       "                 coef    std err          t      P>|t|       95.0% Conf. Int.\n",
       "-----------------------------------------------------------------------------\n",
       "omega          0.1806  2.251e-02      8.021  1.045e-15      [  0.136,  0.225]\n",
       "alpha[1]       0.0587  1.759e-02      3.337  8.464e-04  [2.423e-02,9.319e-02]\n",
       "alpha[2]       0.1147  2.025e-02      5.661  1.503e-08    [7.496e-02,  0.154]\n",
       "alpha[3]       0.1255  2.587e-02      4.851  1.231e-06    [7.478e-02,  0.176]\n",
       "alpha[4]       0.0813  2.209e-02      3.680  2.330e-04    [3.800e-02,  0.125]\n",
       "alpha[5]       0.0691  1.726e-02      4.000  6.322e-05    [3.522e-02,  0.103]\n",
       "alpha[6]       0.0836  1.941e-02      4.308  1.650e-05    [4.557e-02,  0.122]\n",
       "alpha[7]       0.0410  1.867e-02      2.197  2.805e-02  [4.417e-03,7.759e-02]\n",
       "alpha[8]       0.0630  1.853e-02      3.399  6.761e-04  [2.667e-02,9.931e-02]\n",
       "alpha[9]       0.0258  1.702e-02      1.517      0.129 [-7.545e-03,5.917e-02]\n",
       "alpha[10]      0.0271  1.572e-02      1.726  8.437e-02 [-3.680e-03,5.796e-02]\n",
       "alpha[11]      0.0731  1.766e-02      4.142  3.438e-05    [3.854e-02,  0.108]\n",
       "alpha[12]      0.0400  1.902e-02      2.104  3.537e-02  [2.742e-03,7.730e-02]\n",
       "alpha[13]      0.0371  1.439e-02      2.582  9.836e-03  [8.945e-03,6.535e-02]\n",
       "alpha[14]  9.3411e-03  1.465e-02      0.637      0.524 [-1.938e-02,3.806e-02]\n",
       "alpha[15]      0.0268  1.359e-02      1.968  4.909e-02  [1.062e-04,5.340e-02]\n",
       "=============================================================================\n",
       "\n",
       "Covariance estimator: robust\n",
       "\"\"\""
      ]
     },
     "execution_count": 14,
     "metadata": {},
     "output_type": "execute_result"
    }
   ],
   "source": [
    "model_arch_4 = arch_model(df.returns[1:], mean = \"Constant\", vol = \"ARCH\", p = 15)\n",
    "results_arch_4 = model_arch_4.fit()\n",
    "results_arch_4.summary()"
   ]
  },
  {
   "cell_type": "markdown",
   "id": "3458fca7",
   "metadata": {},
   "source": [
    "#### when we increase the lags by 15 we get more insignificant coefficients like alpha[9], alpha[10] and alpha[14] where the p-value is greater than 0.05, So we stop our model in 8 lags"
   ]
  },
  {
   "cell_type": "code",
   "execution_count": 15,
   "id": "84f1e4cd",
   "metadata": {},
   "outputs": [
    {
     "name": "stdout",
     "output_type": "stream",
     "text": [
      "Iteration:      1,   Func. Count:     12,   Neg. LLF: 185086.25744324407\n",
      "Iteration:      2,   Func. Count:     27,   Neg. LLF: 2203423.598129509\n",
      "Iteration:      3,   Func. Count:     39,   Neg. LLF: 1969931.18759455\n",
      "Iteration:      4,   Func. Count:     52,   Neg. LLF: 12032.160258261994\n",
      "Iteration:      5,   Func. Count:     66,   Neg. LLF: 19373.847192096793\n",
      "Iteration:      6,   Func. Count:     79,   Neg. LLF: 8452.112392985382\n",
      "Iteration:      7,   Func. Count:     92,   Neg. LLF: 8051.439476723784\n",
      "Iteration:      8,   Func. Count:    105,   Neg. LLF: 7663.301223190288\n",
      "Iteration:      9,   Func. Count:    118,   Neg. LLF: 7236.849990908792\n",
      "Iteration:     10,   Func. Count:    131,   Neg. LLF: 7248.666868130322\n",
      "Iteration:     11,   Func. Count:    144,   Neg. LLF: 7650.80828494964\n",
      "Iteration:     12,   Func. Count:    157,   Neg. LLF: 7226.913690061588\n",
      "Iteration:     13,   Func. Count:    170,   Neg. LLF: 7117.124651884744\n",
      "Iteration:     14,   Func. Count:    183,   Neg. LLF: 7123.606539429855\n",
      "Iteration:     15,   Func. Count:    196,   Neg. LLF: 7035.833838490136\n",
      "Iteration:     16,   Func. Count:    209,   Neg. LLF: 7018.4965767764115\n",
      "Iteration:     17,   Func. Count:    220,   Neg. LLF: 7018.495974095602\n",
      "Iteration:     18,   Func. Count:    230,   Neg. LLF: 7018.495974095981\n",
      "Optimization terminated successfully    (Exit mode 0)\n",
      "            Current function value: 7018.495974095602\n",
      "            Iterations: 18\n",
      "            Function evaluations: 230\n",
      "            Gradient evaluations: 18\n"
     ]
    },
    {
     "data": {
      "text/html": [
       "<table class=\"simpletable\">\n",
       "<caption>Constant Mean - ARCH Model Results</caption>\n",
       "<tr>\n",
       "  <th>Dep. Variable:</th>       <td>returns</td>      <th>  R-squared:         </th>  <td>   0.000</td> \n",
       "</tr>\n",
       "<tr>\n",
       "  <th>Mean Model:</th>       <td>Constant Mean</td>   <th>  Adj. R-squared:    </th>  <td>   0.000</td> \n",
       "</tr>\n",
       "<tr>\n",
       "  <th>Vol Model:</th>            <td>ARCH</td>        <th>  Log-Likelihood:    </th> <td>  -7018.50</td>\n",
       "</tr>\n",
       "<tr>\n",
       "  <th>Distribution:</th>        <td>Normal</td>       <th>  AIC:               </th> <td>   14057.0</td>\n",
       "</tr>\n",
       "<tr>\n",
       "  <th>Method:</th>        <td>Maximum Likelihood</td> <th>  BIC:               </th> <td>   14122.2</td>\n",
       "</tr>\n",
       "<tr>\n",
       "  <th></th>                        <td></td>          <th>  No. Observations:  </th>    <td>5014</td>   \n",
       "</tr>\n",
       "<tr>\n",
       "  <th>Date:</th>           <td>Fri, Jan 28 2022</td>  <th>  Df Residuals:      </th>    <td>5013</td>   \n",
       "</tr>\n",
       "<tr>\n",
       "  <th>Time:</th>               <td>21:58:38</td>      <th>  Df Model:          </th>      <td>1</td>    \n",
       "</tr>\n",
       "</table>\n",
       "<table class=\"simpletable\">\n",
       "<caption>Mean Model</caption>\n",
       "<tr>\n",
       "   <td></td>     <th>coef</th>     <th>std err</th>      <th>t</th>       <th>P>|t|</th>     <th>95.0% Conf. Int.</th>   \n",
       "</tr>\n",
       "<tr>\n",
       "  <th>mu</th> <td>    0.0554</td> <td>1.177e-02</td> <td>    4.708</td> <td>2.500e-06</td> <td>[3.234e-02,7.847e-02]</td>\n",
       "</tr>\n",
       "</table>\n",
       "<table class=\"simpletable\">\n",
       "<caption>Volatility Model</caption>\n",
       "<tr>\n",
       "      <td></td>        <th>coef</th>     <th>std err</th>      <th>t</th>       <th>P>|t|</th>    <th>95.0% Conf. Int.</th>  \n",
       "</tr>\n",
       "<tr>\n",
       "  <th>omega</th>    <td>    0.2427</td> <td>2.256e-02</td> <td>   10.755</td> <td>5.588e-27</td>  <td>[  0.198,  0.287]</td> \n",
       "</tr>\n",
       "<tr>\n",
       "  <th>alpha[1]</th> <td>    0.0712</td> <td>1.844e-02</td> <td>    3.862</td> <td>1.124e-04</td> <td>[3.508e-02,  0.107]</td>\n",
       "</tr>\n",
       "<tr>\n",
       "  <th>alpha[2]</th> <td>    0.1286</td> <td>2.024e-02</td> <td>    6.350</td> <td>2.150e-10</td> <td>[8.888e-02,  0.168]</td>\n",
       "</tr>\n",
       "<tr>\n",
       "  <th>alpha[3]</th> <td>    0.1461</td> <td>2.620e-02</td> <td>    5.576</td> <td>2.466e-08</td> <td>[9.474e-02,  0.197]</td>\n",
       "</tr>\n",
       "<tr>\n",
       "  <th>alpha[4]</th> <td>    0.1093</td> <td>2.158e-02</td> <td>    5.065</td> <td>4.086e-07</td> <td>[6.700e-02,  0.152]</td>\n",
       "</tr>\n",
       "<tr>\n",
       "  <th>alpha[5]</th> <td>    0.1165</td> <td>1.886e-02</td> <td>    6.176</td> <td>6.584e-10</td> <td>[7.952e-02,  0.153]</td>\n",
       "</tr>\n",
       "<tr>\n",
       "  <th>alpha[6]</th> <td>    0.1235</td> <td>1.989e-02</td> <td>    6.208</td> <td>5.369e-10</td> <td>[8.451e-02,  0.162]</td>\n",
       "</tr>\n",
       "<tr>\n",
       "  <th>alpha[7]</th> <td>    0.0707</td> <td>1.989e-02</td> <td>    3.552</td> <td>3.818e-04</td> <td>[3.168e-02,  0.110]</td>\n",
       "</tr>\n",
       "<tr>\n",
       "  <th>alpha[8]</th> <td>    0.0717</td> <td>1.763e-02</td> <td>    4.069</td> <td>4.729e-05</td> <td>[3.718e-02,  0.106]</td>\n",
       "</tr>\n",
       "</table><br/><br/>Covariance estimator: robust"
      ],
      "text/plain": [
       "<class 'statsmodels.iolib.summary.Summary'>\n",
       "\"\"\"\n",
       "                      Constant Mean - ARCH Model Results                      \n",
       "==============================================================================\n",
       "Dep. Variable:                returns   R-squared:                       0.000\n",
       "Mean Model:             Constant Mean   Adj. R-squared:                  0.000\n",
       "Vol Model:                       ARCH   Log-Likelihood:               -7018.50\n",
       "Distribution:                  Normal   AIC:                           14057.0\n",
       "Method:            Maximum Likelihood   BIC:                           14122.2\n",
       "                                        No. Observations:                 5014\n",
       "Date:                Fri, Jan 28 2022   Df Residuals:                     5013\n",
       "Time:                        21:58:38   Df Model:                            1\n",
       "                                 Mean Model                                 \n",
       "============================================================================\n",
       "                 coef    std err          t      P>|t|      95.0% Conf. Int.\n",
       "----------------------------------------------------------------------------\n",
       "mu             0.0554  1.177e-02      4.708  2.500e-06 [3.234e-02,7.847e-02]\n",
       "                             Volatility Model                             \n",
       "==========================================================================\n",
       "                 coef    std err          t      P>|t|    95.0% Conf. Int.\n",
       "--------------------------------------------------------------------------\n",
       "omega          0.2427  2.256e-02     10.755  5.588e-27   [  0.198,  0.287]\n",
       "alpha[1]       0.0712  1.844e-02      3.862  1.124e-04 [3.508e-02,  0.107]\n",
       "alpha[2]       0.1286  2.024e-02      6.350  2.150e-10 [8.888e-02,  0.168]\n",
       "alpha[3]       0.1461  2.620e-02      5.576  2.466e-08 [9.474e-02,  0.197]\n",
       "alpha[4]       0.1093  2.158e-02      5.065  4.086e-07 [6.700e-02,  0.152]\n",
       "alpha[5]       0.1165  1.886e-02      6.176  6.584e-10 [7.952e-02,  0.153]\n",
       "alpha[6]       0.1235  1.989e-02      6.208  5.369e-10 [8.451e-02,  0.162]\n",
       "alpha[7]       0.0707  1.989e-02      3.552  3.818e-04 [3.168e-02,  0.110]\n",
       "alpha[8]       0.0717  1.763e-02      4.069  4.729e-05 [3.718e-02,  0.106]\n",
       "==========================================================================\n",
       "\n",
       "Covariance estimator: robust\n",
       "\"\"\""
      ]
     },
     "execution_count": 15,
     "metadata": {},
     "output_type": "execute_result"
    }
   ],
   "source": [
    "model_arch_5 = arch_model(df.returns[1:], mean = \"Constant\", vol = \"ARCH\", p = 8)\n",
    "results_arch_5 = model_arch_5.fit()\n",
    "results_arch_5.summary()"
   ]
  },
  {
   "cell_type": "code",
   "execution_count": 17,
   "id": "3aa36978",
   "metadata": {},
   "outputs": [
    {
     "data": {
      "image/png": "[encoded data removed]",
      "text/plain": [
       "<Figure size 1152x576 with 1 Axes>"
      ]
     },
     "metadata": {
      "needs_background": "light"
     },
     "output_type": "display_data"
    }
   ],
   "source": [
    "y_hat = df_test.copy()\n",
    "predictions_1 = results_arch_1.forecast(horizon=df_test.shape[0])\n",
    "predicted_array_1 = predictions_1.variance.values[-1:]\n",
    "y_hat[\"ARCH(1)\"] = np.sqrt(predicted_array_1.tolist()[0])\n",
    "predictions_2 = results_arch_2.forecast(horizon=df_test.shape[0])\n",
    "predicted_array_2 = predictions_2.variance.values[-1:]\n",
    "y_hat[\"ARCH(2)\"] = np.sqrt(predicted_array_2.tolist()[0])\n",
    "predictions_3 = results_arch_3.forecast(horizon=df_test.shape[0])\n",
    "predicted_array_3 = predictions_3.variance.values[-1:]\n",
    "y_hat[\"ARCH(3)\"] = np.sqrt(predicted_array_3.tolist()[0])\n",
    "predictions_4 = results_arch_4.forecast(horizon=df_test.shape[0])\n",
    "predicted_array_4 = predictions_4.variance.values[-1:]\n",
    "y_hat[\"ARCH(4)\"] = np.sqrt(predicted_array_4.tolist()[0])\n",
    "predictions_5 = results_arch_5.forecast(horizon=df_test.shape[0])\n",
    "predicted_array_5 = predictions_5.variance.values[-1:]\n",
    "y_hat[\"ARCH(5)\"] = np.sqrt(predicted_array_5.tolist()[0])\n",
    "plt.figure(figsize=(16,8)) \n",
    "plt.plot( df['returns'], label='Train') \n",
    "plt.plot(df_test['returns'], label='Test') \n",
    "plt.plot(y_hat[\"ARCH(1)\"], label=\"ARCH(1)\") \n",
    "plt.plot(y_hat[\"ARCH(2)\"], label=\"ARCH(2)\")\n",
    "plt.plot(y_hat[\"ARCH(3)\"], label=\"ARCH(3)\") \n",
    "plt.plot(y_hat[\"ARCH(4)\"], label=\"ARCH(4)\") \n",
    "plt.plot(y_hat[\"ARCH(5)\"], label=\"ARCH(5)\") \n",
    "plt.legend(loc='best') \n",
    "plt.title(\"ARCH Model : Lags = 3\", size = 26)\n",
    "plt.show()"
   ]
  },
  {
   "cell_type": "code",
   "execution_count": null,
   "id": "01e3d6ed",
   "metadata": {},
   "outputs": [],
   "source": []
  }
 ],
 "metadata": {
  "kernelspec": {
   "display_name": "Python 3",
   "language": "python",
   "name": "python3"
  },
  "language_info": {
   "codemirror_mode": {
    "name": "ipython",
    "version": 3
   },
   "file_extension": ".py",
   "mimetype": "text/x-python",
   "name": "python",
   "nbconvert_exporter": "python",
   "pygments_lexer": "ipython3",
   "version": "3.8.8"
  }
 },
 "nbformat": 4,
 "nbformat_minor": 5
}
