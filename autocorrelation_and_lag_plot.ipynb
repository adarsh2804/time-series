{
 "cells": [
  {
   "cell_type": "markdown",
   "id": "bc642ff2",
   "metadata": {},
   "source": [
    "## Lag Plot"
   ]
  },
  {
   "cell_type": "markdown",
   "id": "955ab1b7",
   "metadata": {},
   "source": [
    "*A lag plot is a special type of scatter plot in which the X-axis represents the dataset with some time units behind or ahead as compared to the Y-axis. The difference between these time units is called lag or lagged and it is represented by k.*\n",
    "\n",
    "*The lag plot contains the following axes:*\n",
    "\n",
    "**Vertical axis:** *Yi for all i*\n",
    "\n",
    "**Horizontal axis:** *Yi-k for all i, where k is lag value.*"
   ]
  },
  {
   "cell_type": "code",
   "execution_count": null,
   "id": "3f4938a8",
   "metadata": {},
   "outputs": [],
   "source": []
  },
  {
   "cell_type": "code",
   "execution_count": 1,
   "id": "db62e2ea",
   "metadata": {},
   "outputs": [],
   "source": [
    "# Import Libraries\n",
    "import pandas as pd\n",
    "import numpy as np\n",
    "import matplotlib.pyplot as plt\n",
    "from scipy import stats as sc\n",
    "from statsmodels.graphics.tsaplots import plot_acf, plot_pacf\n",
    "from matplotlib.pylab import rcParams"
   ]
  },
  {
   "cell_type": "markdown",
   "id": "9353c785",
   "metadata": {},
   "source": [
    "### Distribution of Model"
   ]
  },
  {
   "cell_type": "markdown",
   "id": "df21604b",
   "metadata": {},
   "source": [
    "*Distribution of model here means deciding what is the shape of data on the basis of the lag plot.*\n",
    "\n",
    "*If the lag plot is linear, then the underlying structure is of the autoregressive model.*\n",
    "\n",
    "*If the lag plot is of elliptical shape, then the underlying structure represents a continuous periodic function such as sine, cosine, etc.*"
   ]
  },
  {
   "cell_type": "markdown",
   "id": "5784f2a6",
   "metadata": {},
   "source": [
    "### Lag Plot for Sine Graph"
   ]
  },
  {
   "cell_type": "code",
   "execution_count": 2,
   "id": "e5b9b7fd",
   "metadata": {},
   "outputs": [],
   "source": [
    "time= np.arange(0, 10, 0.1);\n",
    "amplitude=np.sin(time)\n",
    "amplitude_series = pd.Series(amplitude)"
   ]
  },
  {
   "cell_type": "code",
   "execution_count": 3,
   "id": "8c7daf13",
   "metadata": {},
   "outputs": [
    {
     "data": {
      "text/plain": [
       "array([0. , 0.1, 0.2, 0.3, 0.4, 0.5, 0.6, 0.7, 0.8, 0.9, 1. , 1.1, 1.2,\n",
       "       1.3, 1.4, 1.5, 1.6, 1.7, 1.8, 1.9, 2. , 2.1, 2.2, 2.3, 2.4, 2.5,\n",
       "       2.6, 2.7, 2.8, 2.9, 3. , 3.1, 3.2, 3.3, 3.4, 3.5, 3.6, 3.7, 3.8,\n",
       "       3.9, 4. , 4.1, 4.2, 4.3, 4.4, 4.5, 4.6, 4.7, 4.8, 4.9, 5. , 5.1,\n",
       "       5.2, 5.3, 5.4, 5.5, 5.6, 5.7, 5.8, 5.9, 6. , 6.1, 6.2, 6.3, 6.4,\n",
       "       6.5, 6.6, 6.7, 6.8, 6.9, 7. , 7.1, 7.2, 7.3, 7.4, 7.5, 7.6, 7.7,\n",
       "       7.8, 7.9, 8. , 8.1, 8.2, 8.3, 8.4, 8.5, 8.6, 8.7, 8.8, 8.9, 9. ,\n",
       "       9.1, 9.2, 9.3, 9.4, 9.5, 9.6, 9.7, 9.8, 9.9])"
      ]
     },
     "execution_count": 3,
     "metadata": {},
     "output_type": "execute_result"
    }
   ],
   "source": [
    "time"
   ]
  },
  {
   "cell_type": "code",
   "execution_count": 4,
   "id": "9b5ba998",
   "metadata": {},
   "outputs": [
    {
     "data": {
      "text/plain": [
       "array([ 0.        ,  0.09983342,  0.19866933,  0.29552021,  0.38941834,\n",
       "        0.47942554,  0.56464247,  0.64421769,  0.71735609,  0.78332691,\n",
       "        0.84147098,  0.89120736,  0.93203909,  0.96355819,  0.98544973,\n",
       "        0.99749499,  0.9995736 ,  0.99166481,  0.97384763,  0.94630009,\n",
       "        0.90929743,  0.86320937,  0.8084964 ,  0.74570521,  0.67546318,\n",
       "        0.59847214,  0.51550137,  0.42737988,  0.33498815,  0.23924933,\n",
       "        0.14112001,  0.04158066, -0.05837414, -0.15774569, -0.2555411 ,\n",
       "       -0.35078323, -0.44252044, -0.52983614, -0.61185789, -0.68776616,\n",
       "       -0.7568025 , -0.81827711, -0.87157577, -0.91616594, -0.95160207,\n",
       "       -0.97753012, -0.993691  , -0.99992326, -0.99616461, -0.98245261,\n",
       "       -0.95892427, -0.92581468, -0.88345466, -0.83226744, -0.77276449,\n",
       "       -0.70554033, -0.63126664, -0.55068554, -0.46460218, -0.37387666,\n",
       "       -0.2794155 , -0.1821625 , -0.0830894 ,  0.0168139 ,  0.1165492 ,\n",
       "        0.21511999,  0.31154136,  0.40484992,  0.49411335,  0.57843976,\n",
       "        0.6569866 ,  0.72896904,  0.79366786,  0.85043662,  0.8987081 ,\n",
       "        0.93799998,  0.96791967,  0.98816823,  0.99854335,  0.99894134,\n",
       "        0.98935825,  0.96988981,  0.94073056,  0.90217183,  0.85459891,\n",
       "        0.79848711,  0.7343971 ,  0.66296923,  0.58491719,  0.50102086,\n",
       "        0.41211849,  0.31909836,  0.22288991,  0.12445442,  0.02477543,\n",
       "       -0.07515112, -0.17432678, -0.27176063, -0.36647913, -0.45753589])"
      ]
     },
     "execution_count": 4,
     "metadata": {},
     "output_type": "execute_result"
    }
   ],
   "source": [
    "amplitude"
   ]
  },
  {
   "cell_type": "code",
   "execution_count": 5,
   "id": "92352b99",
   "metadata": {},
   "outputs": [
    {
     "data": {
      "text/plain": [
       "0     0.000000\n",
       "1     0.099833\n",
       "2     0.198669\n",
       "3     0.295520\n",
       "4     0.389418\n",
       "        ...   \n",
       "95   -0.075151\n",
       "96   -0.174327\n",
       "97   -0.271761\n",
       "98   -0.366479\n",
       "99   -0.457536\n",
       "Length: 100, dtype: float64"
      ]
     },
     "execution_count": 5,
     "metadata": {},
     "output_type": "execute_result"
    }
   ],
   "source": [
    "amplitude_series"
   ]
  },
  {
   "cell_type": "code",
   "execution_count": 6,
   "id": "8d83ab6e",
   "metadata": {},
   "outputs": [
    {
     "data": {
      "text/plain": [
       "count    100.000000\n",
       "mean       0.186474\n",
       "std        0.667424\n",
       "min       -0.999923\n",
       "25%       -0.368329\n",
       "50%        0.315320\n",
       "75%        0.800989\n",
       "max        0.999574\n",
       "dtype: float64"
      ]
     },
     "execution_count": 6,
     "metadata": {},
     "output_type": "execute_result"
    }
   ],
   "source": [
    "amplitude_series.describe()"
   ]
  },
  {
   "cell_type": "code",
   "execution_count": 7,
   "id": "72768b42",
   "metadata": {},
   "outputs": [
    {
     "data": {
      "image/png": "[encoded data removed]",
      "text/plain": [
       "<Figure size 1008x360 with 1 Axes>"
      ]
     },
     "metadata": {
      "needs_background": "light"
     },
     "output_type": "display_data"
    }
   ],
   "source": [
    "rcParams['figure.figsize'] = 14, 5\n",
    "plot_acf(amplitude_series, lags=50)\n",
    "plt.xlabel(\"Lag value\",fontsize=12)\n",
    "plt.ylabel(\"Correlation value\",fontsize=12)\n",
    "plt.show()"
   ]
  },
  {
   "cell_type": "code",
   "execution_count": 8,
   "id": "f2c7529a",
   "metadata": {},
   "outputs": [
    {
     "data": {
      "image/png": "[encoded data removed]",
      "text/plain": [
       "<Figure size 864x360 with 2 Axes>"
      ]
     },
     "metadata": {
      "needs_background": "light"
     },
     "output_type": "display_data"
    }
   ],
   "source": [
    "# Sine graph and lag plot\n",
    "fig, ax = plt.subplots(1, 2, figsize=(12,5))\n",
    "ax[0].plot(time, amplitude)\n",
    "ax[0].set_xlabel('Time')\n",
    "ax[0].set_ylabel('Amplitude')\n",
    "ax[0].axhline(y=0, color='k')\n",
    "pd.plotting.lag_plot(amplitude_series, lag= 3, ax =ax[1])\n",
    "plt.suptitle('Sine Plot (elliptic curve)',fontsize=16)\n",
    "plt.show()"
   ]
  },
  {
   "cell_type": "markdown",
   "id": "cb80935b",
   "metadata": {},
   "source": [
    "**If the lag plot is of elliptical shape, then the underlying structure represents a continuous periodic function such as sine, cosine, etc.**"
   ]
  },
  {
   "cell_type": "code",
   "execution_count": null,
   "id": "a7692329",
   "metadata": {},
   "outputs": [],
   "source": []
  },
  {
   "cell_type": "markdown",
   "id": "637f7768",
   "metadata": {},
   "source": [
    "### Randomness in Data\n",
    "\n",
    "**The lag plot is also useful for checking whether the given dataset is random or not. If there is randomness in the data then it will be reflected in the lag plot, if there is no pattern in the lag plot.**"
   ]
  },
  {
   "cell_type": "code",
   "execution_count": 9,
   "id": "0275f5cd",
   "metadata": {},
   "outputs": [],
   "source": [
    "sample_size=1000\n",
    "random_series=  pd.DataFrame(np.random.normal(size=sample_size))\n",
    "random_series.reset_index(inplace=True)"
   ]
  },
  {
   "cell_type": "code",
   "execution_count": 10,
   "id": "a3a5e3a8",
   "metadata": {},
   "outputs": [
    {
     "data": {
      "text/html": [
       "<div>\n",
       "<style scoped>\n",
       "    .dataframe tbody tr th:only-of-type {\n",
       "        vertical-align: middle;\n",
       "    }\n",
       "\n",
       "    .dataframe tbody tr th {\n",
       "        vertical-align: top;\n",
       "    }\n",
       "\n",
       "    .dataframe thead th {\n",
       "        text-align: right;\n",
       "    }\n",
       "</style>\n",
       "<table border=\"1\" class=\"dataframe\">\n",
       "  <thead>\n",
       "    <tr style=\"text-align: right;\">\n",
       "      <th></th>\n",
       "      <th>index</th>\n",
       "      <th>0</th>\n",
       "    </tr>\n",
       "  </thead>\n",
       "  <tbody>\n",
       "    <tr>\n",
       "      <th>0</th>\n",
       "      <td>0</td>\n",
       "      <td>0.956296</td>\n",
       "    </tr>\n",
       "    <tr>\n",
       "      <th>1</th>\n",
       "      <td>1</td>\n",
       "      <td>-0.852785</td>\n",
       "    </tr>\n",
       "    <tr>\n",
       "      <th>2</th>\n",
       "      <td>2</td>\n",
       "      <td>0.225530</td>\n",
       "    </tr>\n",
       "    <tr>\n",
       "      <th>3</th>\n",
       "      <td>3</td>\n",
       "      <td>-1.125544</td>\n",
       "    </tr>\n",
       "    <tr>\n",
       "      <th>4</th>\n",
       "      <td>4</td>\n",
       "      <td>0.798920</td>\n",
       "    </tr>\n",
       "  </tbody>\n",
       "</table>\n",
       "</div>"
      ],
      "text/plain": [
       "   index         0\n",
       "0      0  0.956296\n",
       "1      1 -0.852785\n",
       "2      2  0.225530\n",
       "3      3 -1.125544\n",
       "4      4  0.798920"
      ]
     },
     "execution_count": 10,
     "metadata": {},
     "output_type": "execute_result"
    }
   ],
   "source": [
    "random_series.head()"
   ]
  },
  {
   "cell_type": "code",
   "execution_count": 11,
   "id": "91095755",
   "metadata": {},
   "outputs": [
    {
     "name": "stdout",
     "output_type": "stream",
     "text": [
      "<class 'pandas.core.frame.DataFrame'>\n",
      "RangeIndex: 1000 entries, 0 to 999\n",
      "Data columns (total 2 columns):\n",
      " #   Column  Non-Null Count  Dtype  \n",
      "---  ------  --------------  -----  \n",
      " 0   index   1000 non-null   int64  \n",
      " 1   0       1000 non-null   float64\n",
      "dtypes: float64(1), int64(1)\n",
      "memory usage: 15.8 KB\n"
     ]
    }
   ],
   "source": [
    "random_series.info()"
   ]
  },
  {
   "cell_type": "code",
   "execution_count": 12,
   "id": "89efbd83",
   "metadata": {},
   "outputs": [
    {
     "data": {
      "text/html": [
       "<div>\n",
       "<style scoped>\n",
       "    .dataframe tbody tr th:only-of-type {\n",
       "        vertical-align: middle;\n",
       "    }\n",
       "\n",
       "    .dataframe tbody tr th {\n",
       "        vertical-align: top;\n",
       "    }\n",
       "\n",
       "    .dataframe thead th {\n",
       "        text-align: right;\n",
       "    }\n",
       "</style>\n",
       "<table border=\"1\" class=\"dataframe\">\n",
       "  <thead>\n",
       "    <tr style=\"text-align: right;\">\n",
       "      <th></th>\n",
       "      <th>index</th>\n",
       "      <th>0</th>\n",
       "    </tr>\n",
       "  </thead>\n",
       "  <tbody>\n",
       "    <tr>\n",
       "      <th>count</th>\n",
       "      <td>1000.000000</td>\n",
       "      <td>1000.000000</td>\n",
       "    </tr>\n",
       "    <tr>\n",
       "      <th>mean</th>\n",
       "      <td>499.500000</td>\n",
       "      <td>0.028292</td>\n",
       "    </tr>\n",
       "    <tr>\n",
       "      <th>std</th>\n",
       "      <td>288.819436</td>\n",
       "      <td>0.996439</td>\n",
       "    </tr>\n",
       "    <tr>\n",
       "      <th>min</th>\n",
       "      <td>0.000000</td>\n",
       "      <td>-2.889088</td>\n",
       "    </tr>\n",
       "    <tr>\n",
       "      <th>25%</th>\n",
       "      <td>249.750000</td>\n",
       "      <td>-0.645373</td>\n",
       "    </tr>\n",
       "    <tr>\n",
       "      <th>50%</th>\n",
       "      <td>499.500000</td>\n",
       "      <td>0.057042</td>\n",
       "    </tr>\n",
       "    <tr>\n",
       "      <th>75%</th>\n",
       "      <td>749.250000</td>\n",
       "      <td>0.692025</td>\n",
       "    </tr>\n",
       "    <tr>\n",
       "      <th>max</th>\n",
       "      <td>999.000000</td>\n",
       "      <td>3.320172</td>\n",
       "    </tr>\n",
       "  </tbody>\n",
       "</table>\n",
       "</div>"
      ],
      "text/plain": [
       "             index            0\n",
       "count  1000.000000  1000.000000\n",
       "mean    499.500000     0.028292\n",
       "std     288.819436     0.996439\n",
       "min       0.000000    -2.889088\n",
       "25%     249.750000    -0.645373\n",
       "50%     499.500000     0.057042\n",
       "75%     749.250000     0.692025\n",
       "max     999.000000     3.320172"
      ]
     },
     "execution_count": 12,
     "metadata": {},
     "output_type": "execute_result"
    }
   ],
   "source": [
    "random_series.describe()"
   ]
  },
  {
   "cell_type": "code",
   "execution_count": 13,
   "id": "c5f500c9",
   "metadata": {},
   "outputs": [
    {
     "data": {
      "image/png": "[encoded data removed]",
      "text/plain": [
       "<Figure size 864x216 with 1 Axes>"
      ]
     },
     "metadata": {
      "needs_background": "light"
     },
     "output_type": "display_data"
    }
   ],
   "source": [
    "rcParams['figure.figsize'] = 12, 3\n",
    "plot_acf(random_series[0], lags=50)\n",
    "plt.xlabel(\"Lag value\",fontsize=12)\n",
    "plt.ylabel(\"Correlation value\",fontsize=12)\n",
    "plt.show()"
   ]
  },
  {
   "cell_type": "code",
   "execution_count": null,
   "id": "c4bd2584",
   "metadata": {},
   "outputs": [],
   "source": []
  },
  {
   "cell_type": "code",
   "execution_count": 14,
   "id": "775055e5",
   "metadata": {
    "scrolled": false
   },
   "outputs": [
    {
     "data": {
      "image/png": "[encoded data removed]",
      "text/plain": [
       "<Figure size 720x360 with 2 Axes>"
      ]
     },
     "metadata": {
      "needs_background": "light"
     },
     "output_type": "display_data"
    }
   ],
   "source": [
    "# Random and Lag Plot\n",
    "fig, ax = plt.subplots(1, 2, figsize=(10,5))\n",
    "ax[0].plot(random_series['index'],random_series[0])\n",
    "pd.plotting.lag_plot(random_series[0],lag = 3)\n",
    "plt.suptitle('Lag Plot for Random Data',fontsize=16)\n",
    "plt.show()"
   ]
  },
  {
   "cell_type": "code",
   "execution_count": null,
   "id": "6017026c",
   "metadata": {},
   "outputs": [],
   "source": []
  },
  {
   "cell_type": "markdown",
   "id": "e0e42085",
   "metadata": {},
   "source": [
    "## Auto-Correlation"
   ]
  },
  {
   "cell_type": "markdown",
   "id": "22791f11",
   "metadata": {},
   "source": [
    "*If the lag plot gives a linear plot, then it means the autocorrelation is present in the data, whether there is positive autocorrelation or negative that depends upon the slope of the line of the dataset. If more data is concentrated on the diagonal in lag plot, it means there is a strong autocorrelation.*\n"
   ]
  },
  {
   "cell_type": "markdown",
   "id": "2b848f09",
   "metadata": {},
   "source": [
    "### Strong Auto-Correlation"
   ]
  },
  {
   "cell_type": "code",
   "execution_count": 15,
   "id": "56f79a1c",
   "metadata": {},
   "outputs": [
    {
     "data": {
      "text/html": [
       "<div>\n",
       "<style scoped>\n",
       "    .dataframe tbody tr th:only-of-type {\n",
       "        vertical-align: middle;\n",
       "    }\n",
       "\n",
       "    .dataframe tbody tr th {\n",
       "        vertical-align: top;\n",
       "    }\n",
       "\n",
       "    .dataframe thead th {\n",
       "        text-align: right;\n",
       "    }\n",
       "</style>\n",
       "<table border=\"1\" class=\"dataframe\">\n",
       "  <thead>\n",
       "    <tr style=\"text-align: right;\">\n",
       "      <th></th>\n",
       "      <th>index</th>\n",
       "      <th>Date</th>\n",
       "      <th>Open</th>\n",
       "      <th>High</th>\n",
       "      <th>Low</th>\n",
       "      <th>Close</th>\n",
       "      <th>Adj Close</th>\n",
       "      <th>Volume</th>\n",
       "    </tr>\n",
       "  </thead>\n",
       "  <tbody>\n",
       "    <tr>\n",
       "      <th>0</th>\n",
       "      <td>0</td>\n",
       "      <td>2012-01-27</td>\n",
       "      <td>284.324280</td>\n",
       "      <td>289.076477</td>\n",
       "      <td>283.601990</td>\n",
       "      <td>288.907104</td>\n",
       "      <td>288.907104</td>\n",
       "      <td>7262119</td>\n",
       "    </tr>\n",
       "    <tr>\n",
       "      <th>1</th>\n",
       "      <td>1</td>\n",
       "      <td>2012-01-30</td>\n",
       "      <td>287.945709</td>\n",
       "      <td>288.917053</td>\n",
       "      <td>285.629395</td>\n",
       "      <td>287.766388</td>\n",
       "      <td>287.766388</td>\n",
       "      <td>4678471</td>\n",
       "    </tr>\n",
       "    <tr>\n",
       "      <th>2</th>\n",
       "      <td>2</td>\n",
       "      <td>2012-01-31</td>\n",
       "      <td>290.411469</td>\n",
       "      <td>290.909607</td>\n",
       "      <td>286.501129</td>\n",
       "      <td>288.971863</td>\n",
       "      <td>288.971863</td>\n",
       "      <td>4300860</td>\n",
       "    </tr>\n",
       "    <tr>\n",
       "      <th>3</th>\n",
       "      <td>3</td>\n",
       "      <td>2012-02-01</td>\n",
       "      <td>291.377838</td>\n",
       "      <td>291.656799</td>\n",
       "      <td>288.488678</td>\n",
       "      <td>289.330505</td>\n",
       "      <td>289.330505</td>\n",
       "      <td>4658797</td>\n",
       "    </tr>\n",
       "    <tr>\n",
       "      <th>4</th>\n",
       "      <td>4</td>\n",
       "      <td>2012-02-02</td>\n",
       "      <td>291.342987</td>\n",
       "      <td>292.110107</td>\n",
       "      <td>289.953186</td>\n",
       "      <td>291.462524</td>\n",
       "      <td>291.462524</td>\n",
       "      <td>4847502</td>\n",
       "    </tr>\n",
       "  </tbody>\n",
       "</table>\n",
       "</div>"
      ],
      "text/plain": [
       "   index        Date        Open        High         Low       Close  \\\n",
       "0      0  2012-01-27  284.324280  289.076477  283.601990  288.907104   \n",
       "1      1  2012-01-30  287.945709  288.917053  285.629395  287.766388   \n",
       "2      2  2012-01-31  290.411469  290.909607  286.501129  288.971863   \n",
       "3      3  2012-02-01  291.377838  291.656799  288.488678  289.330505   \n",
       "4      4  2012-02-02  291.342987  292.110107  289.953186  291.462524   \n",
       "\n",
       "    Adj Close   Volume  \n",
       "0  288.907104  7262119  \n",
       "1  287.766388  4678471  \n",
       "2  288.971863  4300860  \n",
       "3  289.330505  4658797  \n",
       "4  291.462524  4847502  "
      ]
     },
     "execution_count": 15,
     "metadata": {},
     "output_type": "execute_result"
    }
   ],
   "source": [
    "google_stock_data = pd.read_csv('datasets/GOOG.csv')\n",
    "google_stock_data.reset_index(inplace=True)\n",
    "google_stock_data.head()"
   ]
  },
  {
   "cell_type": "code",
   "execution_count": 16,
   "id": "8973277b",
   "metadata": {},
   "outputs": [
    {
     "name": "stdout",
     "output_type": "stream",
     "text": [
      "<class 'pandas.core.frame.DataFrame'>\n",
      "RangeIndex: 2517 entries, 0 to 2516\n",
      "Data columns (total 8 columns):\n",
      " #   Column     Non-Null Count  Dtype  \n",
      "---  ------     --------------  -----  \n",
      " 0   index      2517 non-null   int64  \n",
      " 1   Date       2517 non-null   object \n",
      " 2   Open       2517 non-null   float64\n",
      " 3   High       2517 non-null   float64\n",
      " 4   Low        2517 non-null   float64\n",
      " 5   Close      2517 non-null   float64\n",
      " 6   Adj Close  2517 non-null   float64\n",
      " 7   Volume     2517 non-null   int64  \n",
      "dtypes: float64(5), int64(2), object(1)\n",
      "memory usage: 157.4+ KB\n"
     ]
    }
   ],
   "source": [
    "google_stock_data.info()"
   ]
  },
  {
   "cell_type": "code",
   "execution_count": 17,
   "id": "c494a35b",
   "metadata": {
    "scrolled": true
   },
   "outputs": [
    {
     "data": {
      "text/html": [
       "<div>\n",
       "<style scoped>\n",
       "    .dataframe tbody tr th:only-of-type {\n",
       "        vertical-align: middle;\n",
       "    }\n",
       "\n",
       "    .dataframe tbody tr th {\n",
       "        vertical-align: top;\n",
       "    }\n",
       "\n",
       "    .dataframe thead th {\n",
       "        text-align: right;\n",
       "    }\n",
       "</style>\n",
       "<table border=\"1\" class=\"dataframe\">\n",
       "  <thead>\n",
       "    <tr style=\"text-align: right;\">\n",
       "      <th></th>\n",
       "      <th>index</th>\n",
       "      <th>Open</th>\n",
       "      <th>High</th>\n",
       "      <th>Low</th>\n",
       "      <th>Close</th>\n",
       "      <th>Adj Close</th>\n",
       "      <th>Volume</th>\n",
       "    </tr>\n",
       "  </thead>\n",
       "  <tbody>\n",
       "    <tr>\n",
       "      <th>count</th>\n",
       "      <td>2517.000000</td>\n",
       "      <td>2517.000000</td>\n",
       "      <td>2517.000000</td>\n",
       "      <td>2517.000000</td>\n",
       "      <td>2517.000000</td>\n",
       "      <td>2517.000000</td>\n",
       "      <td>2.517000e+03</td>\n",
       "    </tr>\n",
       "    <tr>\n",
       "      <th>mean</th>\n",
       "      <td>1258.000000</td>\n",
       "      <td>1004.764363</td>\n",
       "      <td>1014.137637</td>\n",
       "      <td>995.634161</td>\n",
       "      <td>1005.209000</td>\n",
       "      <td>1005.209000</td>\n",
       "      <td>2.315764e+06</td>\n",
       "    </tr>\n",
       "    <tr>\n",
       "      <th>std</th>\n",
       "      <td>726.739637</td>\n",
       "      <td>642.222981</td>\n",
       "      <td>648.605434</td>\n",
       "      <td>636.385112</td>\n",
       "      <td>642.634640</td>\n",
       "      <td>642.634640</td>\n",
       "      <td>1.775787e+06</td>\n",
       "    </tr>\n",
       "    <tr>\n",
       "      <th>min</th>\n",
       "      <td>0.000000</td>\n",
       "      <td>279.123779</td>\n",
       "      <td>281.205963</td>\n",
       "      <td>277.220917</td>\n",
       "      <td>278.481171</td>\n",
       "      <td>278.481171</td>\n",
       "      <td>7.922000e+03</td>\n",
       "    </tr>\n",
       "    <tr>\n",
       "      <th>25%</th>\n",
       "      <td>629.000000</td>\n",
       "      <td>539.259460</td>\n",
       "      <td>543.328308</td>\n",
       "      <td>535.250000</td>\n",
       "      <td>539.299377</td>\n",
       "      <td>539.299377</td>\n",
       "      <td>1.271000e+06</td>\n",
       "    </tr>\n",
       "    <tr>\n",
       "      <th>50%</th>\n",
       "      <td>1258.000000</td>\n",
       "      <td>807.250000</td>\n",
       "      <td>811.840027</td>\n",
       "      <td>803.369995</td>\n",
       "      <td>807.880005</td>\n",
       "      <td>807.880005</td>\n",
       "      <td>1.692100e+06</td>\n",
       "    </tr>\n",
       "    <tr>\n",
       "      <th>75%</th>\n",
       "      <td>1887.000000</td>\n",
       "      <td>1203.410034</td>\n",
       "      <td>1212.015015</td>\n",
       "      <td>1194.579956</td>\n",
       "      <td>1205.099976</td>\n",
       "      <td>1205.099976</td>\n",
       "      <td>2.828362e+06</td>\n",
       "    </tr>\n",
       "    <tr>\n",
       "      <th>max</th>\n",
       "      <td>2516.000000</td>\n",
       "      <td>3020.000000</td>\n",
       "      <td>3037.000000</td>\n",
       "      <td>2997.750000</td>\n",
       "      <td>3014.179932</td>\n",
       "      <td>3014.179932</td>\n",
       "      <td>2.497807e+07</td>\n",
       "    </tr>\n",
       "  </tbody>\n",
       "</table>\n",
       "</div>"
      ],
      "text/plain": [
       "             index         Open         High          Low        Close  \\\n",
       "count  2517.000000  2517.000000  2517.000000  2517.000000  2517.000000   \n",
       "mean   1258.000000  1004.764363  1014.137637   995.634161  1005.209000   \n",
       "std     726.739637   642.222981   648.605434   636.385112   642.634640   \n",
       "min       0.000000   279.123779   281.205963   277.220917   278.481171   \n",
       "25%     629.000000   539.259460   543.328308   535.250000   539.299377   \n",
       "50%    1258.000000   807.250000   811.840027   803.369995   807.880005   \n",
       "75%    1887.000000  1203.410034  1212.015015  1194.579956  1205.099976   \n",
       "max    2516.000000  3020.000000  3037.000000  2997.750000  3014.179932   \n",
       "\n",
       "         Adj Close        Volume  \n",
       "count  2517.000000  2.517000e+03  \n",
       "mean   1005.209000  2.315764e+06  \n",
       "std     642.634640  1.775787e+06  \n",
       "min     278.481171  7.922000e+03  \n",
       "25%     539.299377  1.271000e+06  \n",
       "50%     807.880005  1.692100e+06  \n",
       "75%    1205.099976  2.828362e+06  \n",
       "max    3014.179932  2.497807e+07  "
      ]
     },
     "execution_count": 17,
     "metadata": {},
     "output_type": "execute_result"
    }
   ],
   "source": [
    "google_stock_data.describe()"
   ]
  },
  {
   "cell_type": "code",
   "execution_count": 18,
   "id": "e643de92",
   "metadata": {},
   "outputs": [
    {
     "data": {
      "image/png": "[encoded data removed]",
      "text/plain": [
       "<Figure size 1008x216 with 1 Axes>"
      ]
     },
     "metadata": {
      "needs_background": "light"
     },
     "output_type": "display_data"
    }
   ],
   "source": [
    "rcParams['figure.figsize'] = 14, 3\n",
    "plot_acf(google_stock_data['Adj Close'], lags=50)\n",
    "plt.xlabel(\"Lag value\",fontsize=12)\n",
    "plt.ylabel(\"Correlation value\",fontsize=12)\n",
    "plt.show()"
   ]
  },
  {
   "cell_type": "markdown",
   "id": "ade09484",
   "metadata": {},
   "source": [
    "**From acf graph observation \"Adj close\" has high auto-correlation at lag 1.**\n",
    "\n",
    "**There is no significance reduction in auto-correlation, even increased the lag value.**"
   ]
  },
  {
   "cell_type": "code",
   "execution_count": null,
   "id": "7d0d91c7",
   "metadata": {},
   "outputs": [],
   "source": []
  },
  {
   "cell_type": "code",
   "execution_count": 19,
   "id": "253678ee",
   "metadata": {},
   "outputs": [
    {
     "data": {
      "image/png": "[encoded data removed]",
      "text/plain": [
       "<Figure size 864x360 with 2 Axes>"
      ]
     },
     "metadata": {
      "needs_background": "light"
     },
     "output_type": "display_data"
    }
   ],
   "source": [
    "# Google Stock and Lag Plot (Strong Autocorrelation)\n",
    "fig, ax = plt.subplots(1, 2, figsize=(12, 5))\n",
    "ax[0].plot(google_stock_data['Adj Close'], google_stock_data['index'])\n",
    "pd.plotting.lag_plot(google_stock_data['Adj Close'], lag=1,ax=ax[1])\n",
    "plt.suptitle('Google Stock Data (Strong Autocorrelation)',fontsize=16)\n",
    "plt.show()"
   ]
  },
  {
   "cell_type": "markdown",
   "id": "057c156f",
   "metadata": {},
   "source": [
    "**From the graph we can observe:**\n",
    "\n",
    "   **1.The data come from an underlying autoregressive model with strong positive autocorrelation.**\n",
    "\n",
    "  **2.The data contain no outliers.**"
   ]
  },
  {
   "cell_type": "code",
   "execution_count": 20,
   "id": "a5a20c09",
   "metadata": {},
   "outputs": [],
   "source": [
    "google_stock_data['lag1_Adj Close'] = google_stock_data['Adj Close'].shift(1)\n",
    "google_stock_data['lag2_Adj Close'] = google_stock_data['Adj Close'].shift(2)\n",
    "google_stock_data['lag3_Adj Close'] = google_stock_data['Adj Close'].shift(3)\n",
    "google_stock_data['lag4_Adj Close'] = google_stock_data['Adj Close'].shift(4)\n",
    "google_stock_data['lag5_Adj Close'] = google_stock_data['Adj Close'].shift(5)"
   ]
  },
  {
   "cell_type": "code",
   "execution_count": 21,
   "id": "bc76e0ec",
   "metadata": {},
   "outputs": [
    {
     "data": {
      "text/html": [
       "<div>\n",
       "<style scoped>\n",
       "    .dataframe tbody tr th:only-of-type {\n",
       "        vertical-align: middle;\n",
       "    }\n",
       "\n",
       "    .dataframe tbody tr th {\n",
       "        vertical-align: top;\n",
       "    }\n",
       "\n",
       "    .dataframe thead th {\n",
       "        text-align: right;\n",
       "    }\n",
       "</style>\n",
       "<table border=\"1\" class=\"dataframe\">\n",
       "  <thead>\n",
       "    <tr style=\"text-align: right;\">\n",
       "      <th></th>\n",
       "      <th>index</th>\n",
       "      <th>Date</th>\n",
       "      <th>Open</th>\n",
       "      <th>High</th>\n",
       "      <th>Low</th>\n",
       "      <th>Close</th>\n",
       "      <th>Adj Close</th>\n",
       "      <th>Volume</th>\n",
       "      <th>lag1_Adj Close</th>\n",
       "      <th>lag2_Adj Close</th>\n",
       "      <th>lag3_Adj Close</th>\n",
       "      <th>lag4_Adj Close</th>\n",
       "      <th>lag5_Adj Close</th>\n",
       "    </tr>\n",
       "  </thead>\n",
       "  <tbody>\n",
       "    <tr>\n",
       "      <th>0</th>\n",
       "      <td>0</td>\n",
       "      <td>2012-01-27</td>\n",
       "      <td>284.324280</td>\n",
       "      <td>289.076477</td>\n",
       "      <td>283.601990</td>\n",
       "      <td>288.907104</td>\n",
       "      <td>288.907104</td>\n",
       "      <td>7262119</td>\n",
       "      <td>NaN</td>\n",
       "      <td>NaN</td>\n",
       "      <td>NaN</td>\n",
       "      <td>NaN</td>\n",
       "      <td>NaN</td>\n",
       "    </tr>\n",
       "    <tr>\n",
       "      <th>1</th>\n",
       "      <td>1</td>\n",
       "      <td>2012-01-30</td>\n",
       "      <td>287.945709</td>\n",
       "      <td>288.917053</td>\n",
       "      <td>285.629395</td>\n",
       "      <td>287.766388</td>\n",
       "      <td>287.766388</td>\n",
       "      <td>4678471</td>\n",
       "      <td>288.907104</td>\n",
       "      <td>NaN</td>\n",
       "      <td>NaN</td>\n",
       "      <td>NaN</td>\n",
       "      <td>NaN</td>\n",
       "    </tr>\n",
       "    <tr>\n",
       "      <th>2</th>\n",
       "      <td>2</td>\n",
       "      <td>2012-01-31</td>\n",
       "      <td>290.411469</td>\n",
       "      <td>290.909607</td>\n",
       "      <td>286.501129</td>\n",
       "      <td>288.971863</td>\n",
       "      <td>288.971863</td>\n",
       "      <td>4300860</td>\n",
       "      <td>287.766388</td>\n",
       "      <td>288.907104</td>\n",
       "      <td>NaN</td>\n",
       "      <td>NaN</td>\n",
       "      <td>NaN</td>\n",
       "    </tr>\n",
       "    <tr>\n",
       "      <th>3</th>\n",
       "      <td>3</td>\n",
       "      <td>2012-02-01</td>\n",
       "      <td>291.377838</td>\n",
       "      <td>291.656799</td>\n",
       "      <td>288.488678</td>\n",
       "      <td>289.330505</td>\n",
       "      <td>289.330505</td>\n",
       "      <td>4658797</td>\n",
       "      <td>288.971863</td>\n",
       "      <td>287.766388</td>\n",
       "      <td>288.907104</td>\n",
       "      <td>NaN</td>\n",
       "      <td>NaN</td>\n",
       "    </tr>\n",
       "    <tr>\n",
       "      <th>4</th>\n",
       "      <td>4</td>\n",
       "      <td>2012-02-02</td>\n",
       "      <td>291.342987</td>\n",
       "      <td>292.110107</td>\n",
       "      <td>289.953186</td>\n",
       "      <td>291.462524</td>\n",
       "      <td>291.462524</td>\n",
       "      <td>4847502</td>\n",
       "      <td>289.330505</td>\n",
       "      <td>288.971863</td>\n",
       "      <td>287.766388</td>\n",
       "      <td>288.907104</td>\n",
       "      <td>NaN</td>\n",
       "    </tr>\n",
       "  </tbody>\n",
       "</table>\n",
       "</div>"
      ],
      "text/plain": [
       "   index        Date        Open        High         Low       Close  \\\n",
       "0      0  2012-01-27  284.324280  289.076477  283.601990  288.907104   \n",
       "1      1  2012-01-30  287.945709  288.917053  285.629395  287.766388   \n",
       "2      2  2012-01-31  290.411469  290.909607  286.501129  288.971863   \n",
       "3      3  2012-02-01  291.377838  291.656799  288.488678  289.330505   \n",
       "4      4  2012-02-02  291.342987  292.110107  289.953186  291.462524   \n",
       "\n",
       "    Adj Close   Volume  lag1_Adj Close  lag2_Adj Close  lag3_Adj Close  \\\n",
       "0  288.907104  7262119             NaN             NaN             NaN   \n",
       "1  287.766388  4678471      288.907104             NaN             NaN   \n",
       "2  288.971863  4300860      287.766388      288.907104             NaN   \n",
       "3  289.330505  4658797      288.971863      287.766388      288.907104   \n",
       "4  291.462524  4847502      289.330505      288.971863      287.766388   \n",
       "\n",
       "   lag4_Adj Close  lag5_Adj Close  \n",
       "0             NaN             NaN  \n",
       "1             NaN             NaN  \n",
       "2             NaN             NaN  \n",
       "3             NaN             NaN  \n",
       "4      288.907104             NaN  "
      ]
     },
     "execution_count": 21,
     "metadata": {},
     "output_type": "execute_result"
    }
   ],
   "source": [
    "google_stock_data.head()"
   ]
  },
  {
   "cell_type": "code",
   "execution_count": 22,
   "id": "ab1024bf",
   "metadata": {},
   "outputs": [
    {
     "data": {
      "text/html": [
       "<div>\n",
       "<style scoped>\n",
       "    .dataframe tbody tr th:only-of-type {\n",
       "        vertical-align: middle;\n",
       "    }\n",
       "\n",
       "    .dataframe tbody tr th {\n",
       "        vertical-align: top;\n",
       "    }\n",
       "\n",
       "    .dataframe thead th {\n",
       "        text-align: right;\n",
       "    }\n",
       "</style>\n",
       "<table border=\"1\" class=\"dataframe\">\n",
       "  <thead>\n",
       "    <tr style=\"text-align: right;\">\n",
       "      <th></th>\n",
       "      <th>index</th>\n",
       "      <th>Open</th>\n",
       "      <th>High</th>\n",
       "      <th>Low</th>\n",
       "      <th>Close</th>\n",
       "      <th>Adj Close</th>\n",
       "      <th>Volume</th>\n",
       "      <th>lag1_Adj Close</th>\n",
       "      <th>lag2_Adj Close</th>\n",
       "      <th>lag3_Adj Close</th>\n",
       "      <th>lag4_Adj Close</th>\n",
       "      <th>lag5_Adj Close</th>\n",
       "    </tr>\n",
       "  </thead>\n",
       "  <tbody>\n",
       "    <tr>\n",
       "      <th>index</th>\n",
       "      <td>1.000000</td>\n",
       "      <td>0.889833</td>\n",
       "      <td>0.890756</td>\n",
       "      <td>0.889323</td>\n",
       "      <td>0.890135</td>\n",
       "      <td>0.890135</td>\n",
       "      <td>-0.552755</td>\n",
       "      <td>0.890043</td>\n",
       "      <td>0.889938</td>\n",
       "      <td>0.889853</td>\n",
       "      <td>0.889767</td>\n",
       "      <td>0.889705</td>\n",
       "    </tr>\n",
       "    <tr>\n",
       "      <th>Open</th>\n",
       "      <td>0.889833</td>\n",
       "      <td>1.000000</td>\n",
       "      <td>0.999877</td>\n",
       "      <td>0.999858</td>\n",
       "      <td>0.999730</td>\n",
       "      <td>0.999730</td>\n",
       "      <td>-0.424210</td>\n",
       "      <td>0.999825</td>\n",
       "      <td>0.999393</td>\n",
       "      <td>0.998986</td>\n",
       "      <td>0.998579</td>\n",
       "      <td>0.998223</td>\n",
       "    </tr>\n",
       "    <tr>\n",
       "      <th>High</th>\n",
       "      <td>0.890756</td>\n",
       "      <td>0.999877</td>\n",
       "      <td>1.000000</td>\n",
       "      <td>0.999819</td>\n",
       "      <td>0.999862</td>\n",
       "      <td>0.999862</td>\n",
       "      <td>-0.422535</td>\n",
       "      <td>0.999718</td>\n",
       "      <td>0.999342</td>\n",
       "      <td>0.998955</td>\n",
       "      <td>0.998614</td>\n",
       "      <td>0.998284</td>\n",
       "    </tr>\n",
       "    <tr>\n",
       "      <th>Low</th>\n",
       "      <td>0.889323</td>\n",
       "      <td>0.999858</td>\n",
       "      <td>0.999819</td>\n",
       "      <td>1.000000</td>\n",
       "      <td>0.999881</td>\n",
       "      <td>0.999881</td>\n",
       "      <td>-0.427048</td>\n",
       "      <td>0.999689</td>\n",
       "      <td>0.999246</td>\n",
       "      <td>0.998801</td>\n",
       "      <td>0.998375</td>\n",
       "      <td>0.997988</td>\n",
       "    </tr>\n",
       "    <tr>\n",
       "      <th>Close</th>\n",
       "      <td>0.890135</td>\n",
       "      <td>0.999730</td>\n",
       "      <td>0.999862</td>\n",
       "      <td>0.999881</td>\n",
       "      <td>1.000000</td>\n",
       "      <td>1.000000</td>\n",
       "      <td>-0.425265</td>\n",
       "      <td>0.999563</td>\n",
       "      <td>0.999190</td>\n",
       "      <td>0.998784</td>\n",
       "      <td>0.998416</td>\n",
       "      <td>0.998071</td>\n",
       "    </tr>\n",
       "    <tr>\n",
       "      <th>Adj Close</th>\n",
       "      <td>0.890135</td>\n",
       "      <td>0.999730</td>\n",
       "      <td>0.999862</td>\n",
       "      <td>0.999881</td>\n",
       "      <td>1.000000</td>\n",
       "      <td>1.000000</td>\n",
       "      <td>-0.425265</td>\n",
       "      <td>0.999563</td>\n",
       "      <td>0.999190</td>\n",
       "      <td>0.998784</td>\n",
       "      <td>0.998416</td>\n",
       "      <td>0.998071</td>\n",
       "    </tr>\n",
       "    <tr>\n",
       "      <th>Volume</th>\n",
       "      <td>-0.552755</td>\n",
       "      <td>-0.424210</td>\n",
       "      <td>-0.422535</td>\n",
       "      <td>-0.427048</td>\n",
       "      <td>-0.425265</td>\n",
       "      <td>-0.425265</td>\n",
       "      <td>1.000000</td>\n",
       "      <td>-0.424373</td>\n",
       "      <td>-0.423482</td>\n",
       "      <td>-0.422614</td>\n",
       "      <td>-0.421997</td>\n",
       "      <td>-0.421274</td>\n",
       "    </tr>\n",
       "    <tr>\n",
       "      <th>lag1_Adj Close</th>\n",
       "      <td>0.890043</td>\n",
       "      <td>0.999825</td>\n",
       "      <td>0.999718</td>\n",
       "      <td>0.999689</td>\n",
       "      <td>0.999563</td>\n",
       "      <td>0.999563</td>\n",
       "      <td>-0.424373</td>\n",
       "      <td>1.000000</td>\n",
       "      <td>0.999563</td>\n",
       "      <td>0.999188</td>\n",
       "      <td>0.998781</td>\n",
       "      <td>0.998417</td>\n",
       "    </tr>\n",
       "    <tr>\n",
       "      <th>lag2_Adj Close</th>\n",
       "      <td>0.889938</td>\n",
       "      <td>0.999393</td>\n",
       "      <td>0.999342</td>\n",
       "      <td>0.999246</td>\n",
       "      <td>0.999190</td>\n",
       "      <td>0.999190</td>\n",
       "      <td>-0.423482</td>\n",
       "      <td>0.999563</td>\n",
       "      <td>1.000000</td>\n",
       "      <td>0.999565</td>\n",
       "      <td>0.999189</td>\n",
       "      <td>0.998788</td>\n",
       "    </tr>\n",
       "    <tr>\n",
       "      <th>lag3_Adj Close</th>\n",
       "      <td>0.889853</td>\n",
       "      <td>0.998986</td>\n",
       "      <td>0.998955</td>\n",
       "      <td>0.998801</td>\n",
       "      <td>0.998784</td>\n",
       "      <td>0.998784</td>\n",
       "      <td>-0.422614</td>\n",
       "      <td>0.999188</td>\n",
       "      <td>0.999565</td>\n",
       "      <td>1.000000</td>\n",
       "      <td>0.999564</td>\n",
       "      <td>0.999189</td>\n",
       "    </tr>\n",
       "    <tr>\n",
       "      <th>lag4_Adj Close</th>\n",
       "      <td>0.889767</td>\n",
       "      <td>0.998579</td>\n",
       "      <td>0.998614</td>\n",
       "      <td>0.998375</td>\n",
       "      <td>0.998416</td>\n",
       "      <td>0.998416</td>\n",
       "      <td>-0.421997</td>\n",
       "      <td>0.998781</td>\n",
       "      <td>0.999189</td>\n",
       "      <td>0.999564</td>\n",
       "      <td>1.000000</td>\n",
       "      <td>0.999565</td>\n",
       "    </tr>\n",
       "    <tr>\n",
       "      <th>lag5_Adj Close</th>\n",
       "      <td>0.889705</td>\n",
       "      <td>0.998223</td>\n",
       "      <td>0.998284</td>\n",
       "      <td>0.997988</td>\n",
       "      <td>0.998071</td>\n",
       "      <td>0.998071</td>\n",
       "      <td>-0.421274</td>\n",
       "      <td>0.998417</td>\n",
       "      <td>0.998788</td>\n",
       "      <td>0.999189</td>\n",
       "      <td>0.999565</td>\n",
       "      <td>1.000000</td>\n",
       "    </tr>\n",
       "  </tbody>\n",
       "</table>\n",
       "</div>"
      ],
      "text/plain": [
       "                   index      Open      High       Low     Close  Adj Close  \\\n",
       "index           1.000000  0.889833  0.890756  0.889323  0.890135   0.890135   \n",
       "Open            0.889833  1.000000  0.999877  0.999858  0.999730   0.999730   \n",
       "High            0.890756  0.999877  1.000000  0.999819  0.999862   0.999862   \n",
       "Low             0.889323  0.999858  0.999819  1.000000  0.999881   0.999881   \n",
       "Close           0.890135  0.999730  0.999862  0.999881  1.000000   1.000000   \n",
       "Adj Close       0.890135  0.999730  0.999862  0.999881  1.000000   1.000000   \n",
       "Volume         -0.552755 -0.424210 -0.422535 -0.427048 -0.425265  -0.425265   \n",
       "lag1_Adj Close  0.890043  0.999825  0.999718  0.999689  0.999563   0.999563   \n",
       "lag2_Adj Close  0.889938  0.999393  0.999342  0.999246  0.999190   0.999190   \n",
       "lag3_Adj Close  0.889853  0.998986  0.998955  0.998801  0.998784   0.998784   \n",
       "lag4_Adj Close  0.889767  0.998579  0.998614  0.998375  0.998416   0.998416   \n",
       "lag5_Adj Close  0.889705  0.998223  0.998284  0.997988  0.998071   0.998071   \n",
       "\n",
       "                  Volume  lag1_Adj Close  lag2_Adj Close  lag3_Adj Close  \\\n",
       "index          -0.552755        0.890043        0.889938        0.889853   \n",
       "Open           -0.424210        0.999825        0.999393        0.998986   \n",
       "High           -0.422535        0.999718        0.999342        0.998955   \n",
       "Low            -0.427048        0.999689        0.999246        0.998801   \n",
       "Close          -0.425265        0.999563        0.999190        0.998784   \n",
       "Adj Close      -0.425265        0.999563        0.999190        0.998784   \n",
       "Volume          1.000000       -0.424373       -0.423482       -0.422614   \n",
       "lag1_Adj Close -0.424373        1.000000        0.999563        0.999188   \n",
       "lag2_Adj Close -0.423482        0.999563        1.000000        0.999565   \n",
       "lag3_Adj Close -0.422614        0.999188        0.999565        1.000000   \n",
       "lag4_Adj Close -0.421997        0.998781        0.999189        0.999564   \n",
       "lag5_Adj Close -0.421274        0.998417        0.998788        0.999189   \n",
       "\n",
       "                lag4_Adj Close  lag5_Adj Close  \n",
       "index                 0.889767        0.889705  \n",
       "Open                  0.998579        0.998223  \n",
       "High                  0.998614        0.998284  \n",
       "Low                   0.998375        0.997988  \n",
       "Close                 0.998416        0.998071  \n",
       "Adj Close             0.998416        0.998071  \n",
       "Volume               -0.421997       -0.421274  \n",
       "lag1_Adj Close        0.998781        0.998417  \n",
       "lag2_Adj Close        0.999189        0.998788  \n",
       "lag3_Adj Close        0.999564        0.999189  \n",
       "lag4_Adj Close        1.000000        0.999565  \n",
       "lag5_Adj Close        0.999565        1.000000  "
      ]
     },
     "execution_count": 22,
     "metadata": {},
     "output_type": "execute_result"
    }
   ],
   "source": [
    "google_stock_data.corr()"
   ]
  },
  {
   "cell_type": "markdown",
   "id": "59b2b610",
   "metadata": {},
   "source": [
    "**At lag 1,the correlation value between \"Adj Close\" and \"lag1_Adj Close\" is 0.999563.**\n",
    "\n",
    "**From above graph and correlation table we can conclude that \"Adj close\" highly auto-correlated at lag 1.**\n",
    "\n",
    "**Even if increase lag value but there is no significance reduction in auto-correlation.**"
   ]
  },
  {
   "cell_type": "code",
   "execution_count": null,
   "id": "cfa0c953",
   "metadata": {},
   "outputs": [],
   "source": []
  },
  {
   "cell_type": "markdown",
   "id": "30be9213",
   "metadata": {},
   "source": [
    "### Moderate Auto-Correlation"
   ]
  },
  {
   "cell_type": "code",
   "execution_count": 23,
   "id": "cb97aaf1",
   "metadata": {},
   "outputs": [
    {
     "data": {
      "text/html": [
       "<div>\n",
       "<style scoped>\n",
       "    .dataframe tbody tr th:only-of-type {\n",
       "        vertical-align: middle;\n",
       "    }\n",
       "\n",
       "    .dataframe tbody tr th {\n",
       "        vertical-align: top;\n",
       "    }\n",
       "\n",
       "    .dataframe thead th {\n",
       "        text-align: right;\n",
       "    }\n",
       "</style>\n",
       "<table border=\"1\" class=\"dataframe\">\n",
       "  <thead>\n",
       "    <tr style=\"text-align: right;\">\n",
       "      <th></th>\n",
       "      <th>index</th>\n",
       "      <th>Date</th>\n",
       "      <th>Temp</th>\n",
       "    </tr>\n",
       "  </thead>\n",
       "  <tbody>\n",
       "    <tr>\n",
       "      <th>0</th>\n",
       "      <td>0</td>\n",
       "      <td>1981-01-01</td>\n",
       "      <td>20.7</td>\n",
       "    </tr>\n",
       "    <tr>\n",
       "      <th>1</th>\n",
       "      <td>1</td>\n",
       "      <td>1981-01-02</td>\n",
       "      <td>17.9</td>\n",
       "    </tr>\n",
       "    <tr>\n",
       "      <th>2</th>\n",
       "      <td>2</td>\n",
       "      <td>1981-01-03</td>\n",
       "      <td>18.8</td>\n",
       "    </tr>\n",
       "    <tr>\n",
       "      <th>3</th>\n",
       "      <td>3</td>\n",
       "      <td>1981-01-04</td>\n",
       "      <td>14.6</td>\n",
       "    </tr>\n",
       "    <tr>\n",
       "      <th>4</th>\n",
       "      <td>4</td>\n",
       "      <td>1981-01-05</td>\n",
       "      <td>15.8</td>\n",
       "    </tr>\n",
       "  </tbody>\n",
       "</table>\n",
       "</div>"
      ],
      "text/plain": [
       "   index        Date  Temp\n",
       "0      0  1981-01-01  20.7\n",
       "1      1  1981-01-02  17.9\n",
       "2      2  1981-01-03  18.8\n",
       "3      3  1981-01-04  14.6\n",
       "4      4  1981-01-05  15.8"
      ]
     },
     "execution_count": 23,
     "metadata": {},
     "output_type": "execute_result"
    }
   ],
   "source": [
    "min_temp_data = pd.read_csv('datasets/daily-min-temperatures.csv')\n",
    "min_temp_data.reset_index(inplace=True)\n",
    "min_temp_data.head()"
   ]
  },
  {
   "cell_type": "code",
   "execution_count": 24,
   "id": "160a5dd3",
   "metadata": {},
   "outputs": [
    {
     "name": "stdout",
     "output_type": "stream",
     "text": [
      "<class 'pandas.core.frame.DataFrame'>\n",
      "RangeIndex: 3650 entries, 0 to 3649\n",
      "Data columns (total 3 columns):\n",
      " #   Column  Non-Null Count  Dtype  \n",
      "---  ------  --------------  -----  \n",
      " 0   index   3650 non-null   int64  \n",
      " 1   Date    3650 non-null   object \n",
      " 2   Temp    3650 non-null   float64\n",
      "dtypes: float64(1), int64(1), object(1)\n",
      "memory usage: 85.7+ KB\n"
     ]
    }
   ],
   "source": [
    "min_temp_data.info()"
   ]
  },
  {
   "cell_type": "code",
   "execution_count": 25,
   "id": "ca2bd305",
   "metadata": {},
   "outputs": [
    {
     "data": {
      "text/html": [
       "<div>\n",
       "<style scoped>\n",
       "    .dataframe tbody tr th:only-of-type {\n",
       "        vertical-align: middle;\n",
       "    }\n",
       "\n",
       "    .dataframe tbody tr th {\n",
       "        vertical-align: top;\n",
       "    }\n",
       "\n",
       "    .dataframe thead th {\n",
       "        text-align: right;\n",
       "    }\n",
       "</style>\n",
       "<table border=\"1\" class=\"dataframe\">\n",
       "  <thead>\n",
       "    <tr style=\"text-align: right;\">\n",
       "      <th></th>\n",
       "      <th>index</th>\n",
       "      <th>Temp</th>\n",
       "    </tr>\n",
       "  </thead>\n",
       "  <tbody>\n",
       "    <tr>\n",
       "      <th>count</th>\n",
       "      <td>3650.000000</td>\n",
       "      <td>3650.000000</td>\n",
       "    </tr>\n",
       "    <tr>\n",
       "      <th>mean</th>\n",
       "      <td>1824.500000</td>\n",
       "      <td>11.177753</td>\n",
       "    </tr>\n",
       "    <tr>\n",
       "      <th>std</th>\n",
       "      <td>1053.808569</td>\n",
       "      <td>4.071837</td>\n",
       "    </tr>\n",
       "    <tr>\n",
       "      <th>min</th>\n",
       "      <td>0.000000</td>\n",
       "      <td>0.000000</td>\n",
       "    </tr>\n",
       "    <tr>\n",
       "      <th>25%</th>\n",
       "      <td>912.250000</td>\n",
       "      <td>8.300000</td>\n",
       "    </tr>\n",
       "    <tr>\n",
       "      <th>50%</th>\n",
       "      <td>1824.500000</td>\n",
       "      <td>11.000000</td>\n",
       "    </tr>\n",
       "    <tr>\n",
       "      <th>75%</th>\n",
       "      <td>2736.750000</td>\n",
       "      <td>14.000000</td>\n",
       "    </tr>\n",
       "    <tr>\n",
       "      <th>max</th>\n",
       "      <td>3649.000000</td>\n",
       "      <td>26.300000</td>\n",
       "    </tr>\n",
       "  </tbody>\n",
       "</table>\n",
       "</div>"
      ],
      "text/plain": [
       "             index         Temp\n",
       "count  3650.000000  3650.000000\n",
       "mean   1824.500000    11.177753\n",
       "std    1053.808569     4.071837\n",
       "min       0.000000     0.000000\n",
       "25%     912.250000     8.300000\n",
       "50%    1824.500000    11.000000\n",
       "75%    2736.750000    14.000000\n",
       "max    3649.000000    26.300000"
      ]
     },
     "execution_count": 25,
     "metadata": {},
     "output_type": "execute_result"
    }
   ],
   "source": [
    "min_temp_data.describe()"
   ]
  },
  {
   "cell_type": "code",
   "execution_count": 26,
   "id": "286b1246",
   "metadata": {},
   "outputs": [
    {
     "data": {
      "image/png": "[encoded data removed]",
      "text/plain": [
       "<Figure size 1008x216 with 1 Axes>"
      ]
     },
     "metadata": {
      "needs_background": "light"
     },
     "output_type": "display_data"
    }
   ],
   "source": [
    "rcParams['figure.figsize'] = 14, 3\n",
    "plot_acf(min_temp_data[\"Temp\"], lags=50)\n",
    "plt.xlabel(\"Lag value\",fontsize=12)\n",
    "plt.ylabel(\"Correlation value\",fontsize=12)\n",
    "plt.show()"
   ]
  },
  {
   "cell_type": "markdown",
   "id": "192d066b",
   "metadata": {},
   "source": [
    "**From acf graph observation \"Temp\" has high correlation value(0.8) at lag 1.**\n",
    "\n",
    "**If lag values increase then correlation value significantly reduce.**"
   ]
  },
  {
   "cell_type": "code",
   "execution_count": 27,
   "id": "de18d53a",
   "metadata": {},
   "outputs": [
    {
     "data": {
      "image/png": "[encoded data removed]",
      "text/plain": [
       "<Figure size 864x360 with 2 Axes>"
      ]
     },
     "metadata": {
      "needs_background": "light"
     },
     "output_type": "display_data"
    }
   ],
   "source": [
    "# Daily Minimum Temperatures (Weak Autocorrelation)\n",
    "fig, ax = plt.subplots(1, 2, figsize=(12, 5))\n",
    "ax[0].plot(min_temp_data[\"index\"], min_temp_data['Temp'])\n",
    "pd.plotting.lag_plot(min_temp_data[\"Temp\"],lag=1,ax =ax[1])\n",
    "plt.suptitle('Daily Minimum Temperatures Data (Moderate Autocorrelation)',fontsize=16)\n",
    "plt.show()"
   ]
  },
  {
   "cell_type": "code",
   "execution_count": 28,
   "id": "d5718631",
   "metadata": {},
   "outputs": [],
   "source": [
    "min_temp_data[\"Lag1_Temp\"] = min_temp_data[\"Temp\"].shift(1)\n",
    "min_temp_data[\"Lag2_Temp\"] = min_temp_data[\"Temp\"].shift(2)\n",
    "min_temp_data[\"Lag3_Temp\"] = min_temp_data[\"Temp\"].shift(3)\n",
    "min_temp_data[\"Lag4_Temp\"] = min_temp_data[\"Temp\"].shift(4)\n",
    "min_temp_data[\"Lag5_Temp\"] = min_temp_data[\"Temp\"].shift(5)"
   ]
  },
  {
   "cell_type": "code",
   "execution_count": 29,
   "id": "a0479d51",
   "metadata": {},
   "outputs": [
    {
     "data": {
      "text/html": [
       "<div>\n",
       "<style scoped>\n",
       "    .dataframe tbody tr th:only-of-type {\n",
       "        vertical-align: middle;\n",
       "    }\n",
       "\n",
       "    .dataframe tbody tr th {\n",
       "        vertical-align: top;\n",
       "    }\n",
       "\n",
       "    .dataframe thead th {\n",
       "        text-align: right;\n",
       "    }\n",
       "</style>\n",
       "<table border=\"1\" class=\"dataframe\">\n",
       "  <thead>\n",
       "    <tr style=\"text-align: right;\">\n",
       "      <th></th>\n",
       "      <th>index</th>\n",
       "      <th>Date</th>\n",
       "      <th>Temp</th>\n",
       "      <th>Lag1_Temp</th>\n",
       "      <th>Lag2_Temp</th>\n",
       "      <th>Lag3_Temp</th>\n",
       "      <th>Lag4_Temp</th>\n",
       "      <th>Lag5_Temp</th>\n",
       "    </tr>\n",
       "  </thead>\n",
       "  <tbody>\n",
       "    <tr>\n",
       "      <th>0</th>\n",
       "      <td>0</td>\n",
       "      <td>1981-01-01</td>\n",
       "      <td>20.7</td>\n",
       "      <td>NaN</td>\n",
       "      <td>NaN</td>\n",
       "      <td>NaN</td>\n",
       "      <td>NaN</td>\n",
       "      <td>NaN</td>\n",
       "    </tr>\n",
       "    <tr>\n",
       "      <th>1</th>\n",
       "      <td>1</td>\n",
       "      <td>1981-01-02</td>\n",
       "      <td>17.9</td>\n",
       "      <td>20.7</td>\n",
       "      <td>NaN</td>\n",
       "      <td>NaN</td>\n",
       "      <td>NaN</td>\n",
       "      <td>NaN</td>\n",
       "    </tr>\n",
       "    <tr>\n",
       "      <th>2</th>\n",
       "      <td>2</td>\n",
       "      <td>1981-01-03</td>\n",
       "      <td>18.8</td>\n",
       "      <td>17.9</td>\n",
       "      <td>20.7</td>\n",
       "      <td>NaN</td>\n",
       "      <td>NaN</td>\n",
       "      <td>NaN</td>\n",
       "    </tr>\n",
       "    <tr>\n",
       "      <th>3</th>\n",
       "      <td>3</td>\n",
       "      <td>1981-01-04</td>\n",
       "      <td>14.6</td>\n",
       "      <td>18.8</td>\n",
       "      <td>17.9</td>\n",
       "      <td>20.7</td>\n",
       "      <td>NaN</td>\n",
       "      <td>NaN</td>\n",
       "    </tr>\n",
       "    <tr>\n",
       "      <th>4</th>\n",
       "      <td>4</td>\n",
       "      <td>1981-01-05</td>\n",
       "      <td>15.8</td>\n",
       "      <td>14.6</td>\n",
       "      <td>18.8</td>\n",
       "      <td>17.9</td>\n",
       "      <td>20.7</td>\n",
       "      <td>NaN</td>\n",
       "    </tr>\n",
       "  </tbody>\n",
       "</table>\n",
       "</div>"
      ],
      "text/plain": [
       "   index        Date  Temp  Lag1_Temp  Lag2_Temp  Lag3_Temp  Lag4_Temp  \\\n",
       "0      0  1981-01-01  20.7        NaN        NaN        NaN        NaN   \n",
       "1      1  1981-01-02  17.9       20.7        NaN        NaN        NaN   \n",
       "2      2  1981-01-03  18.8       17.9       20.7        NaN        NaN   \n",
       "3      3  1981-01-04  14.6       18.8       17.9       20.7        NaN   \n",
       "4      4  1981-01-05  15.8       14.6       18.8       17.9       20.7   \n",
       "\n",
       "   Lag5_Temp  \n",
       "0        NaN  \n",
       "1        NaN  \n",
       "2        NaN  \n",
       "3        NaN  \n",
       "4        NaN  "
      ]
     },
     "execution_count": 29,
     "metadata": {},
     "output_type": "execute_result"
    }
   ],
   "source": [
    "min_temp_data.head()"
   ]
  },
  {
   "cell_type": "code",
   "execution_count": 30,
   "id": "f81527ac",
   "metadata": {},
   "outputs": [
    {
     "data": {
      "text/html": [
       "<div>\n",
       "<style scoped>\n",
       "    .dataframe tbody tr th:only-of-type {\n",
       "        vertical-align: middle;\n",
       "    }\n",
       "\n",
       "    .dataframe tbody tr th {\n",
       "        vertical-align: top;\n",
       "    }\n",
       "\n",
       "    .dataframe thead th {\n",
       "        text-align: right;\n",
       "    }\n",
       "</style>\n",
       "<table border=\"1\" class=\"dataframe\">\n",
       "  <thead>\n",
       "    <tr style=\"text-align: right;\">\n",
       "      <th></th>\n",
       "      <th>index</th>\n",
       "      <th>Temp</th>\n",
       "      <th>Lag1_Temp</th>\n",
       "      <th>Lag2_Temp</th>\n",
       "      <th>Lag3_Temp</th>\n",
       "      <th>Lag4_Temp</th>\n",
       "      <th>Lag5_Temp</th>\n",
       "    </tr>\n",
       "  </thead>\n",
       "  <tbody>\n",
       "    <tr>\n",
       "      <th>index</th>\n",
       "      <td>1.000000</td>\n",
       "      <td>0.012180</td>\n",
       "      <td>0.011973</td>\n",
       "      <td>0.011452</td>\n",
       "      <td>0.011186</td>\n",
       "      <td>0.010909</td>\n",
       "      <td>0.010584</td>\n",
       "    </tr>\n",
       "    <tr>\n",
       "      <th>Temp</th>\n",
       "      <td>0.012180</td>\n",
       "      <td>1.000000</td>\n",
       "      <td>0.774870</td>\n",
       "      <td>0.631119</td>\n",
       "      <td>0.586375</td>\n",
       "      <td>0.578898</td>\n",
       "      <td>0.578572</td>\n",
       "    </tr>\n",
       "    <tr>\n",
       "      <th>Lag1_Temp</th>\n",
       "      <td>0.011973</td>\n",
       "      <td>0.774870</td>\n",
       "      <td>1.000000</td>\n",
       "      <td>0.774886</td>\n",
       "      <td>0.631095</td>\n",
       "      <td>0.586346</td>\n",
       "      <td>0.578866</td>\n",
       "    </tr>\n",
       "    <tr>\n",
       "      <th>Lag2_Temp</th>\n",
       "      <td>0.011452</td>\n",
       "      <td>0.631119</td>\n",
       "      <td>0.774886</td>\n",
       "      <td>1.000000</td>\n",
       "      <td>0.774878</td>\n",
       "      <td>0.631051</td>\n",
       "      <td>0.586273</td>\n",
       "    </tr>\n",
       "    <tr>\n",
       "      <th>Lag3_Temp</th>\n",
       "      <td>0.011186</td>\n",
       "      <td>0.586375</td>\n",
       "      <td>0.631095</td>\n",
       "      <td>0.774878</td>\n",
       "      <td>1.000000</td>\n",
       "      <td>0.774857</td>\n",
       "      <td>0.631012</td>\n",
       "    </tr>\n",
       "    <tr>\n",
       "      <th>Lag4_Temp</th>\n",
       "      <td>0.010909</td>\n",
       "      <td>0.578898</td>\n",
       "      <td>0.586346</td>\n",
       "      <td>0.631051</td>\n",
       "      <td>0.774857</td>\n",
       "      <td>1.000000</td>\n",
       "      <td>0.774832</td>\n",
       "    </tr>\n",
       "    <tr>\n",
       "      <th>Lag5_Temp</th>\n",
       "      <td>0.010584</td>\n",
       "      <td>0.578572</td>\n",
       "      <td>0.578866</td>\n",
       "      <td>0.586273</td>\n",
       "      <td>0.631012</td>\n",
       "      <td>0.774832</td>\n",
       "      <td>1.000000</td>\n",
       "    </tr>\n",
       "  </tbody>\n",
       "</table>\n",
       "</div>"
      ],
      "text/plain": [
       "              index      Temp  Lag1_Temp  Lag2_Temp  Lag3_Temp  Lag4_Temp  \\\n",
       "index      1.000000  0.012180   0.011973   0.011452   0.011186   0.010909   \n",
       "Temp       0.012180  1.000000   0.774870   0.631119   0.586375   0.578898   \n",
       "Lag1_Temp  0.011973  0.774870   1.000000   0.774886   0.631095   0.586346   \n",
       "Lag2_Temp  0.011452  0.631119   0.774886   1.000000   0.774878   0.631051   \n",
       "Lag3_Temp  0.011186  0.586375   0.631095   0.774878   1.000000   0.774857   \n",
       "Lag4_Temp  0.010909  0.578898   0.586346   0.631051   0.774857   1.000000   \n",
       "Lag5_Temp  0.010584  0.578572   0.578866   0.586273   0.631012   0.774832   \n",
       "\n",
       "           Lag5_Temp  \n",
       "index       0.010584  \n",
       "Temp        0.578572  \n",
       "Lag1_Temp   0.578866  \n",
       "Lag2_Temp   0.586273  \n",
       "Lag3_Temp   0.631012  \n",
       "Lag4_Temp   0.774832  \n",
       "Lag5_Temp   1.000000  "
      ]
     },
     "execution_count": 30,
     "metadata": {},
     "output_type": "execute_result"
    }
   ],
   "source": [
    "min_temp_data.corr()"
   ]
  },
  {
   "cell_type": "markdown",
   "id": "ace2aade",
   "metadata": {},
   "source": [
    "**At lag 1,the correlation value between \"Temp\" and \"lag1_Temp\" is 0.774870.**\n",
    "\n",
    "**From above graph and correlation table we can conclude that \"Temp\" highly auto-correlated at lag 1.**\n",
    "\n",
    "**From the above correlation table we can conclude if lag values increase then correlation value significantly reduce.**"
   ]
  },
  {
   "cell_type": "code",
   "execution_count": null,
   "id": "a23295ff",
   "metadata": {},
   "outputs": [],
   "source": []
  },
  {
   "cell_type": "markdown",
   "id": "ef1ac3f6",
   "metadata": {},
   "source": [
    "### NO Auto-Correlation"
   ]
  },
  {
   "cell_type": "code",
   "execution_count": 31,
   "id": "2dd1c893",
   "metadata": {},
   "outputs": [
    {
     "data": {
      "text/html": [
       "<div>\n",
       "<style scoped>\n",
       "    .dataframe tbody tr th:only-of-type {\n",
       "        vertical-align: middle;\n",
       "    }\n",
       "\n",
       "    .dataframe tbody tr th {\n",
       "        vertical-align: top;\n",
       "    }\n",
       "\n",
       "    .dataframe thead th {\n",
       "        text-align: right;\n",
       "    }\n",
       "</style>\n",
       "<table border=\"1\" class=\"dataframe\">\n",
       "  <thead>\n",
       "    <tr style=\"text-align: right;\">\n",
       "      <th></th>\n",
       "      <th>index</th>\n",
       "      <th>0</th>\n",
       "    </tr>\n",
       "  </thead>\n",
       "  <tbody>\n",
       "    <tr>\n",
       "      <th>0</th>\n",
       "      <td>0</td>\n",
       "      <td>-0.823913</td>\n",
       "    </tr>\n",
       "    <tr>\n",
       "      <th>1</th>\n",
       "      <td>1</td>\n",
       "      <td>0.060936</td>\n",
       "    </tr>\n",
       "    <tr>\n",
       "      <th>2</th>\n",
       "      <td>2</td>\n",
       "      <td>1.354124</td>\n",
       "    </tr>\n",
       "    <tr>\n",
       "      <th>3</th>\n",
       "      <td>3</td>\n",
       "      <td>0.497268</td>\n",
       "    </tr>\n",
       "    <tr>\n",
       "      <th>4</th>\n",
       "      <td>4</td>\n",
       "      <td>0.776392</td>\n",
       "    </tr>\n",
       "  </tbody>\n",
       "</table>\n",
       "</div>"
      ],
      "text/plain": [
       "   index         0\n",
       "0      0 -0.823913\n",
       "1      1  0.060936\n",
       "2      2  1.354124\n",
       "3      3  0.497268\n",
       "4      4  0.776392"
      ]
     },
     "execution_count": 31,
     "metadata": {},
     "output_type": "execute_result"
    }
   ],
   "source": [
    "sample_size=1000\n",
    "random_data =  pd.DataFrame(np.random.normal(size=sample_size))\n",
    "random_data.reset_index(inplace=True)\n",
    "random_data.head()"
   ]
  },
  {
   "cell_type": "code",
   "execution_count": 32,
   "id": "ef0b979a",
   "metadata": {},
   "outputs": [
    {
     "name": "stdout",
     "output_type": "stream",
     "text": [
      "<class 'pandas.core.frame.DataFrame'>\n",
      "RangeIndex: 1000 entries, 0 to 999\n",
      "Data columns (total 2 columns):\n",
      " #   Column  Non-Null Count  Dtype  \n",
      "---  ------  --------------  -----  \n",
      " 0   index   1000 non-null   int64  \n",
      " 1   0       1000 non-null   float64\n",
      "dtypes: float64(1), int64(1)\n",
      "memory usage: 15.8 KB\n"
     ]
    }
   ],
   "source": [
    "random_data.info()"
   ]
  },
  {
   "cell_type": "code",
   "execution_count": 33,
   "id": "2df756e1",
   "metadata": {},
   "outputs": [
    {
     "data": {
      "text/html": [
       "<div>\n",
       "<style scoped>\n",
       "    .dataframe tbody tr th:only-of-type {\n",
       "        vertical-align: middle;\n",
       "    }\n",
       "\n",
       "    .dataframe tbody tr th {\n",
       "        vertical-align: top;\n",
       "    }\n",
       "\n",
       "    .dataframe thead th {\n",
       "        text-align: right;\n",
       "    }\n",
       "</style>\n",
       "<table border=\"1\" class=\"dataframe\">\n",
       "  <thead>\n",
       "    <tr style=\"text-align: right;\">\n",
       "      <th></th>\n",
       "      <th>index</th>\n",
       "      <th>0</th>\n",
       "    </tr>\n",
       "  </thead>\n",
       "  <tbody>\n",
       "    <tr>\n",
       "      <th>count</th>\n",
       "      <td>1000.000000</td>\n",
       "      <td>1000.000000</td>\n",
       "    </tr>\n",
       "    <tr>\n",
       "      <th>mean</th>\n",
       "      <td>499.500000</td>\n",
       "      <td>-0.017509</td>\n",
       "    </tr>\n",
       "    <tr>\n",
       "      <th>std</th>\n",
       "      <td>288.819436</td>\n",
       "      <td>1.037268</td>\n",
       "    </tr>\n",
       "    <tr>\n",
       "      <th>min</th>\n",
       "      <td>0.000000</td>\n",
       "      <td>-3.399330</td>\n",
       "    </tr>\n",
       "    <tr>\n",
       "      <th>25%</th>\n",
       "      <td>249.750000</td>\n",
       "      <td>-0.680382</td>\n",
       "    </tr>\n",
       "    <tr>\n",
       "      <th>50%</th>\n",
       "      <td>499.500000</td>\n",
       "      <td>0.000946</td>\n",
       "    </tr>\n",
       "    <tr>\n",
       "      <th>75%</th>\n",
       "      <td>749.250000</td>\n",
       "      <td>0.683416</td>\n",
       "    </tr>\n",
       "    <tr>\n",
       "      <th>max</th>\n",
       "      <td>999.000000</td>\n",
       "      <td>3.328856</td>\n",
       "    </tr>\n",
       "  </tbody>\n",
       "</table>\n",
       "</div>"
      ],
      "text/plain": [
       "             index            0\n",
       "count  1000.000000  1000.000000\n",
       "mean    499.500000    -0.017509\n",
       "std     288.819436     1.037268\n",
       "min       0.000000    -3.399330\n",
       "25%     249.750000    -0.680382\n",
       "50%     499.500000     0.000946\n",
       "75%     749.250000     0.683416\n",
       "max     999.000000     3.328856"
      ]
     },
     "execution_count": 33,
     "metadata": {},
     "output_type": "execute_result"
    }
   ],
   "source": [
    "random_data.describe()"
   ]
  },
  {
   "cell_type": "code",
   "execution_count": 34,
   "id": "33ab92e3",
   "metadata": {},
   "outputs": [
    {
     "data": {
      "image/png": "[encoded data removed]",
      "text/plain": [
       "<Figure size 720x216 with 1 Axes>"
      ]
     },
     "metadata": {
      "needs_background": "light"
     },
     "output_type": "display_data"
    }
   ],
   "source": [
    "rcParams['figure.figsize'] = 10, 3\n",
    "plot_acf(random_series[0], lags=50)\n",
    "plt.xlabel(\"Lag value\",fontsize=12)\n",
    "plt.ylabel(\"Correlation value\",fontsize=12)\n",
    "plt.show()"
   ]
  },
  {
   "cell_type": "markdown",
   "id": "cc58013b",
   "metadata": {},
   "source": [
    "**From acf graph observation \"Random Series\" has no correlation value at any lag value.**\n",
    "\n",
    "**Even if increase lag value but there is no significance change in corrleation.**"
   ]
  },
  {
   "cell_type": "code",
   "execution_count": 35,
   "id": "59838c12",
   "metadata": {},
   "outputs": [
    {
     "data": {
      "image/png": "[encoded data removed]",
      "text/plain": [
       "<Figure size 864x360 with 2 Axes>"
      ]
     },
     "metadata": {
      "needs_background": "light"
     },
     "output_type": "display_data"
    }
   ],
   "source": [
    "# Random and Lag Plot\n",
    "fig, ax = plt.subplots(1, 2, figsize=(12,5))\n",
    "ax[0].plot(random_data['index'],random_data[0])\n",
    "pd.plotting.lag_plot(random_data[0],lag = 1)\n",
    "plt.suptitle('Random Plot (No Autocorrelation)',fontsize=16)\n",
    "plt.show()"
   ]
  },
  {
   "cell_type": "code",
   "execution_count": 36,
   "id": "520c4dfa",
   "metadata": {},
   "outputs": [],
   "source": [
    "random_data[\"Lag_1\"] = random_data[0].shift(1)\n",
    "random_data[\"Lag_2\"] = random_data[0].shift(2)\n",
    "random_data[\"Lag_3\"] = random_data[0].shift(3)\n",
    "random_data[\"Lag_4\"] = random_data[0].shift(4)\n",
    "random_data[\"Lag_5\"] = random_data[0].shift(5)"
   ]
  },
  {
   "cell_type": "code",
   "execution_count": 37,
   "id": "f442162a",
   "metadata": {},
   "outputs": [
    {
     "data": {
      "text/html": [
       "<div>\n",
       "<style scoped>\n",
       "    .dataframe tbody tr th:only-of-type {\n",
       "        vertical-align: middle;\n",
       "    }\n",
       "\n",
       "    .dataframe tbody tr th {\n",
       "        vertical-align: top;\n",
       "    }\n",
       "\n",
       "    .dataframe thead th {\n",
       "        text-align: right;\n",
       "    }\n",
       "</style>\n",
       "<table border=\"1\" class=\"dataframe\">\n",
       "  <thead>\n",
       "    <tr style=\"text-align: right;\">\n",
       "      <th></th>\n",
       "      <th>index</th>\n",
       "      <th>0</th>\n",
       "      <th>Lag_1</th>\n",
       "      <th>Lag_2</th>\n",
       "      <th>Lag_3</th>\n",
       "      <th>Lag_4</th>\n",
       "      <th>Lag_5</th>\n",
       "    </tr>\n",
       "  </thead>\n",
       "  <tbody>\n",
       "    <tr>\n",
       "      <th>0</th>\n",
       "      <td>0</td>\n",
       "      <td>-0.823913</td>\n",
       "      <td>NaN</td>\n",
       "      <td>NaN</td>\n",
       "      <td>NaN</td>\n",
       "      <td>NaN</td>\n",
       "      <td>NaN</td>\n",
       "    </tr>\n",
       "    <tr>\n",
       "      <th>1</th>\n",
       "      <td>1</td>\n",
       "      <td>0.060936</td>\n",
       "      <td>-0.823913</td>\n",
       "      <td>NaN</td>\n",
       "      <td>NaN</td>\n",
       "      <td>NaN</td>\n",
       "      <td>NaN</td>\n",
       "    </tr>\n",
       "    <tr>\n",
       "      <th>2</th>\n",
       "      <td>2</td>\n",
       "      <td>1.354124</td>\n",
       "      <td>0.060936</td>\n",
       "      <td>-0.823913</td>\n",
       "      <td>NaN</td>\n",
       "      <td>NaN</td>\n",
       "      <td>NaN</td>\n",
       "    </tr>\n",
       "    <tr>\n",
       "      <th>3</th>\n",
       "      <td>3</td>\n",
       "      <td>0.497268</td>\n",
       "      <td>1.354124</td>\n",
       "      <td>0.060936</td>\n",
       "      <td>-0.823913</td>\n",
       "      <td>NaN</td>\n",
       "      <td>NaN</td>\n",
       "    </tr>\n",
       "    <tr>\n",
       "      <th>4</th>\n",
       "      <td>4</td>\n",
       "      <td>0.776392</td>\n",
       "      <td>0.497268</td>\n",
       "      <td>1.354124</td>\n",
       "      <td>0.060936</td>\n",
       "      <td>-0.823913</td>\n",
       "      <td>NaN</td>\n",
       "    </tr>\n",
       "  </tbody>\n",
       "</table>\n",
       "</div>"
      ],
      "text/plain": [
       "   index         0     Lag_1     Lag_2     Lag_3     Lag_4  Lag_5\n",
       "0      0 -0.823913       NaN       NaN       NaN       NaN    NaN\n",
       "1      1  0.060936 -0.823913       NaN       NaN       NaN    NaN\n",
       "2      2  1.354124  0.060936 -0.823913       NaN       NaN    NaN\n",
       "3      3  0.497268  1.354124  0.060936 -0.823913       NaN    NaN\n",
       "4      4  0.776392  0.497268  1.354124  0.060936 -0.823913    NaN"
      ]
     },
     "execution_count": 37,
     "metadata": {},
     "output_type": "execute_result"
    }
   ],
   "source": [
    "random_data.head()"
   ]
  },
  {
   "cell_type": "code",
   "execution_count": 38,
   "id": "22736e75",
   "metadata": {},
   "outputs": [
    {
     "data": {
      "text/html": [
       "<div>\n",
       "<style scoped>\n",
       "    .dataframe tbody tr th:only-of-type {\n",
       "        vertical-align: middle;\n",
       "    }\n",
       "\n",
       "    .dataframe tbody tr th {\n",
       "        vertical-align: top;\n",
       "    }\n",
       "\n",
       "    .dataframe thead th {\n",
       "        text-align: right;\n",
       "    }\n",
       "</style>\n",
       "<table border=\"1\" class=\"dataframe\">\n",
       "  <thead>\n",
       "    <tr style=\"text-align: right;\">\n",
       "      <th></th>\n",
       "      <th>index</th>\n",
       "      <th>0</th>\n",
       "      <th>Lag_1</th>\n",
       "      <th>Lag_2</th>\n",
       "      <th>Lag_3</th>\n",
       "      <th>Lag_4</th>\n",
       "      <th>Lag_5</th>\n",
       "    </tr>\n",
       "  </thead>\n",
       "  <tbody>\n",
       "    <tr>\n",
       "      <th>index</th>\n",
       "      <td>1.000000</td>\n",
       "      <td>-0.023342</td>\n",
       "      <td>-0.025690</td>\n",
       "      <td>-0.027203</td>\n",
       "      <td>-0.025496</td>\n",
       "      <td>-0.025894</td>\n",
       "      <td>-0.023502</td>\n",
       "    </tr>\n",
       "    <tr>\n",
       "      <th>0</th>\n",
       "      <td>-0.023342</td>\n",
       "      <td>1.000000</td>\n",
       "      <td>0.081505</td>\n",
       "      <td>-0.018464</td>\n",
       "      <td>0.038718</td>\n",
       "      <td>-0.016496</td>\n",
       "      <td>0.036314</td>\n",
       "    </tr>\n",
       "    <tr>\n",
       "      <th>Lag_1</th>\n",
       "      <td>-0.025690</td>\n",
       "      <td>0.081505</td>\n",
       "      <td>1.000000</td>\n",
       "      <td>0.080489</td>\n",
       "      <td>-0.017148</td>\n",
       "      <td>0.038479</td>\n",
       "      <td>-0.014652</td>\n",
       "    </tr>\n",
       "    <tr>\n",
       "      <th>Lag_2</th>\n",
       "      <td>-0.027203</td>\n",
       "      <td>-0.018464</td>\n",
       "      <td>0.080489</td>\n",
       "      <td>1.000000</td>\n",
       "      <td>0.081416</td>\n",
       "      <td>-0.017329</td>\n",
       "      <td>0.039729</td>\n",
       "    </tr>\n",
       "    <tr>\n",
       "      <th>Lag_3</th>\n",
       "      <td>-0.025496</td>\n",
       "      <td>0.038718</td>\n",
       "      <td>-0.017148</td>\n",
       "      <td>0.081416</td>\n",
       "      <td>1.000000</td>\n",
       "      <td>0.081670</td>\n",
       "      <td>-0.018793</td>\n",
       "    </tr>\n",
       "    <tr>\n",
       "      <th>Lag_4</th>\n",
       "      <td>-0.025894</td>\n",
       "      <td>-0.016496</td>\n",
       "      <td>0.038479</td>\n",
       "      <td>-0.017329</td>\n",
       "      <td>0.081670</td>\n",
       "      <td>1.000000</td>\n",
       "      <td>0.082045</td>\n",
       "    </tr>\n",
       "    <tr>\n",
       "      <th>Lag_5</th>\n",
       "      <td>-0.023502</td>\n",
       "      <td>0.036314</td>\n",
       "      <td>-0.014652</td>\n",
       "      <td>0.039729</td>\n",
       "      <td>-0.018793</td>\n",
       "      <td>0.082045</td>\n",
       "      <td>1.000000</td>\n",
       "    </tr>\n",
       "  </tbody>\n",
       "</table>\n",
       "</div>"
      ],
      "text/plain": [
       "          index         0     Lag_1     Lag_2     Lag_3     Lag_4     Lag_5\n",
       "index  1.000000 -0.023342 -0.025690 -0.027203 -0.025496 -0.025894 -0.023502\n",
       "0     -0.023342  1.000000  0.081505 -0.018464  0.038718 -0.016496  0.036314\n",
       "Lag_1 -0.025690  0.081505  1.000000  0.080489 -0.017148  0.038479 -0.014652\n",
       "Lag_2 -0.027203 -0.018464  0.080489  1.000000  0.081416 -0.017329  0.039729\n",
       "Lag_3 -0.025496  0.038718 -0.017148  0.081416  1.000000  0.081670 -0.018793\n",
       "Lag_4 -0.025894 -0.016496  0.038479 -0.017329  0.081670  1.000000  0.082045\n",
       "Lag_5 -0.023502  0.036314 -0.014652  0.039729 -0.018793  0.082045  1.000000"
      ]
     },
     "execution_count": 38,
     "metadata": {},
     "output_type": "execute_result"
    }
   ],
   "source": [
    "random_data.corr()"
   ]
  },
  {
   "cell_type": "markdown",
   "id": "96db66bf",
   "metadata": {},
   "source": [
    "**At lag 1,the auto-correlation value between \"random series\" and \"lag_1\" is -0.053176.**\n",
    "\n",
    "**From above graph and correlation table we can conclude that \"random series\" has no auto-corrlation at any lag value.**\n",
    "\n",
    "**The data has some outliers.**"
   ]
  },
  {
   "cell_type": "code",
   "execution_count": null,
   "id": "ca00d9c8",
   "metadata": {},
   "outputs": [],
   "source": []
  }
 ],
 "metadata": {
  "kernelspec": {
   "display_name": "Python 3",
   "language": "python",
   "name": "python3"
  },
  "language_info": {
   "codemirror_mode": {
    "name": "ipython",
    "version": 3
   },
   "file_extension": ".py",
   "mimetype": "text/x-python",
   "name": "python",
   "nbconvert_exporter": "python",
   "pygments_lexer": "ipython3",
   "version": "3.8.8"
  }
 },
 "nbformat": 4,
 "nbformat_minor": 5
}
