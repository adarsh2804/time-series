{
 "cells": [
  {
   "cell_type": "markdown",
   "id": "9fe226f5",
   "metadata": {},
   "source": [
    "# Stock Forecasting with GARCH Model"
   ]
  },
  {
   "cell_type": "code",
   "execution_count": 1,
   "id": "10c55b57",
   "metadata": {},
   "outputs": [],
   "source": [
    "# Importing libraries\n",
    "import numpy as np\n",
    "import pandas as pd\n",
    "import math\n",
    "from datetime import datetime\n",
    "import matplotlib.pyplot as plt\n",
    "%matplotlib inline\n",
    "from arch import arch_model\n",
    "#import pandas_datareader.data as web\n",
    "from datetime import datetime, timedelta\n",
    "from statsmodels.graphics.tsaplots import plot_acf,plot_pacf\n",
    "from sklearn.metrics import mean_squared_error\n",
    "from sklearn.metrics import r2_score\n",
    "import warnings\n",
    "warnings.filterwarnings('ignore')"
   ]
  },
  {
   "cell_type": "markdown",
   "id": "ef1bdeb2",
   "metadata": {},
   "source": [
    "## S&P 500"
   ]
  },
  {
   "cell_type": "code",
   "execution_count": 4,
   "id": "50541cc2",
   "metadata": {},
   "outputs": [],
   "source": [
    "spy = pd.read_csv('datasets/spy.csv') "
   ]
  },
  {
   "cell_type": "code",
   "execution_count": 5,
   "id": "7e0b6476",
   "metadata": {},
   "outputs": [
    {
     "data": {
      "text/html": [
       "<div>\n",
       "<style scoped>\n",
       "    .dataframe tbody tr th:only-of-type {\n",
       "        vertical-align: middle;\n",
       "    }\n",
       "\n",
       "    .dataframe tbody tr th {\n",
       "        vertical-align: top;\n",
       "    }\n",
       "\n",
       "    .dataframe thead th {\n",
       "        text-align: right;\n",
       "    }\n",
       "</style>\n",
       "<table border=\"1\" class=\"dataframe\">\n",
       "  <thead>\n",
       "    <tr style=\"text-align: right;\">\n",
       "      <th></th>\n",
       "      <th>High</th>\n",
       "      <th>Low</th>\n",
       "      <th>Open</th>\n",
       "      <th>Close</th>\n",
       "      <th>Volume</th>\n",
       "      <th>Adj Close</th>\n",
       "    </tr>\n",
       "    <tr>\n",
       "      <th>Date</th>\n",
       "      <th></th>\n",
       "      <th></th>\n",
       "      <th></th>\n",
       "      <th></th>\n",
       "      <th></th>\n",
       "      <th></th>\n",
       "    </tr>\n",
       "  </thead>\n",
       "  <tbody>\n",
       "    <tr>\n",
       "      <th>1999-12-31</th>\n",
       "      <td>147.50000</td>\n",
       "      <td>146.250000</td>\n",
       "      <td>146.84375</td>\n",
       "      <td>146.8750</td>\n",
       "      <td>3172700.0</td>\n",
       "      <td>97.812355</td>\n",
       "    </tr>\n",
       "    <tr>\n",
       "      <th>2000-01-03</th>\n",
       "      <td>148.25000</td>\n",
       "      <td>143.875000</td>\n",
       "      <td>148.25000</td>\n",
       "      <td>145.4375</td>\n",
       "      <td>8164300.0</td>\n",
       "      <td>96.854988</td>\n",
       "    </tr>\n",
       "    <tr>\n",
       "      <th>2000-01-04</th>\n",
       "      <td>144.06250</td>\n",
       "      <td>139.640625</td>\n",
       "      <td>143.53125</td>\n",
       "      <td>139.7500</td>\n",
       "      <td>8089800.0</td>\n",
       "      <td>93.067429</td>\n",
       "    </tr>\n",
       "    <tr>\n",
       "      <th>2000-01-05</th>\n",
       "      <td>141.53125</td>\n",
       "      <td>137.250000</td>\n",
       "      <td>139.93750</td>\n",
       "      <td>140.0000</td>\n",
       "      <td>12177900.0</td>\n",
       "      <td>93.233864</td>\n",
       "    </tr>\n",
       "    <tr>\n",
       "      <th>2000-01-06</th>\n",
       "      <td>141.50000</td>\n",
       "      <td>137.750000</td>\n",
       "      <td>139.62500</td>\n",
       "      <td>137.7500</td>\n",
       "      <td>6227200.0</td>\n",
       "      <td>91.735512</td>\n",
       "    </tr>\n",
       "  </tbody>\n",
       "</table>\n",
       "</div>"
      ],
      "text/plain": [
       "                 High         Low       Open     Close      Volume  Adj Close\n",
       "Date                                                                         \n",
       "1999-12-31  147.50000  146.250000  146.84375  146.8750   3172700.0  97.812355\n",
       "2000-01-03  148.25000  143.875000  148.25000  145.4375   8164300.0  96.854988\n",
       "2000-01-04  144.06250  139.640625  143.53125  139.7500   8089800.0  93.067429\n",
       "2000-01-05  141.53125  137.250000  139.93750  140.0000  12177900.0  93.233864\n",
       "2000-01-06  141.50000  137.750000  139.62500  137.7500   6227200.0  91.735512"
      ]
     },
     "execution_count": 5,
     "metadata": {},
     "output_type": "execute_result"
    }
   ],
   "source": [
    "spy.head(5)"
   ]
  },
  {
   "cell_type": "code",
   "execution_count": 6,
   "id": "499cde2e",
   "metadata": {},
   "outputs": [
    {
     "data": {
      "text/html": [
       "<div>\n",
       "<style scoped>\n",
       "    .dataframe tbody tr th:only-of-type {\n",
       "        vertical-align: middle;\n",
       "    }\n",
       "\n",
       "    .dataframe tbody tr th {\n",
       "        vertical-align: top;\n",
       "    }\n",
       "\n",
       "    .dataframe thead th {\n",
       "        text-align: right;\n",
       "    }\n",
       "</style>\n",
       "<table border=\"1\" class=\"dataframe\">\n",
       "  <thead>\n",
       "    <tr style=\"text-align: right;\">\n",
       "      <th></th>\n",
       "      <th>High</th>\n",
       "      <th>Low</th>\n",
       "      <th>Open</th>\n",
       "      <th>Close</th>\n",
       "      <th>Volume</th>\n",
       "      <th>Adj Close</th>\n",
       "    </tr>\n",
       "    <tr>\n",
       "      <th>Date</th>\n",
       "      <th></th>\n",
       "      <th></th>\n",
       "      <th></th>\n",
       "      <th></th>\n",
       "      <th></th>\n",
       "      <th></th>\n",
       "    </tr>\n",
       "  </thead>\n",
       "  <tbody>\n",
       "    <tr>\n",
       "      <th>2020-06-04</th>\n",
       "      <td>313.000000</td>\n",
       "      <td>309.079987</td>\n",
       "      <td>311.109985</td>\n",
       "      <td>311.359985</td>\n",
       "      <td>75794400.0</td>\n",
       "      <td>303.404938</td>\n",
       "    </tr>\n",
       "    <tr>\n",
       "      <th>2020-06-05</th>\n",
       "      <td>321.269989</td>\n",
       "      <td>317.160004</td>\n",
       "      <td>317.230011</td>\n",
       "      <td>319.339996</td>\n",
       "      <td>150524700.0</td>\n",
       "      <td>311.181122</td>\n",
       "    </tr>\n",
       "    <tr>\n",
       "      <th>2020-06-08</th>\n",
       "      <td>323.410004</td>\n",
       "      <td>319.630005</td>\n",
       "      <td>320.220001</td>\n",
       "      <td>323.200012</td>\n",
       "      <td>73641200.0</td>\n",
       "      <td>314.942535</td>\n",
       "    </tr>\n",
       "    <tr>\n",
       "      <th>2020-06-09</th>\n",
       "      <td>323.279999</td>\n",
       "      <td>319.359985</td>\n",
       "      <td>320.299988</td>\n",
       "      <td>320.790009</td>\n",
       "      <td>77479200.0</td>\n",
       "      <td>312.594086</td>\n",
       "    </tr>\n",
       "    <tr>\n",
       "      <th>2020-06-10</th>\n",
       "      <td>322.390015</td>\n",
       "      <td>318.220001</td>\n",
       "      <td>321.420013</td>\n",
       "      <td>319.000000</td>\n",
       "      <td>95000800.0</td>\n",
       "      <td>310.849823</td>\n",
       "    </tr>\n",
       "  </tbody>\n",
       "</table>\n",
       "</div>"
      ],
      "text/plain": [
       "                  High         Low        Open       Close       Volume  \\\n",
       "Date                                                                      \n",
       "2020-06-04  313.000000  309.079987  311.109985  311.359985   75794400.0   \n",
       "2020-06-05  321.269989  317.160004  317.230011  319.339996  150524700.0   \n",
       "2020-06-08  323.410004  319.630005  320.220001  323.200012   73641200.0   \n",
       "2020-06-09  323.279999  319.359985  320.299988  320.790009   77479200.0   \n",
       "2020-06-10  322.390015  318.220001  321.420013  319.000000   95000800.0   \n",
       "\n",
       "             Adj Close  \n",
       "Date                    \n",
       "2020-06-04  303.404938  \n",
       "2020-06-05  311.181122  \n",
       "2020-06-08  314.942535  \n",
       "2020-06-09  312.594086  \n",
       "2020-06-10  310.849823  "
      ]
     },
     "execution_count": 6,
     "metadata": {},
     "output_type": "execute_result"
    }
   ],
   "source": [
    "spy.tail(5)"
   ]
  },
  {
   "cell_type": "code",
   "execution_count": 7,
   "id": "c85bc6ea",
   "metadata": {},
   "outputs": [
    {
     "data": {
      "text/html": [
       "<div>\n",
       "<style scoped>\n",
       "    .dataframe tbody tr th:only-of-type {\n",
       "        vertical-align: middle;\n",
       "    }\n",
       "\n",
       "    .dataframe tbody tr th {\n",
       "        vertical-align: top;\n",
       "    }\n",
       "\n",
       "    .dataframe thead th {\n",
       "        text-align: right;\n",
       "    }\n",
       "</style>\n",
       "<table border=\"1\" class=\"dataframe\">\n",
       "  <thead>\n",
       "    <tr style=\"text-align: right;\">\n",
       "      <th></th>\n",
       "      <th>Close</th>\n",
       "    </tr>\n",
       "    <tr>\n",
       "      <th>Date</th>\n",
       "      <th></th>\n",
       "    </tr>\n",
       "  </thead>\n",
       "  <tbody>\n",
       "    <tr>\n",
       "      <th>1999-12-31</th>\n",
       "      <td>146.8750</td>\n",
       "    </tr>\n",
       "    <tr>\n",
       "      <th>2000-01-03</th>\n",
       "      <td>145.4375</td>\n",
       "    </tr>\n",
       "    <tr>\n",
       "      <th>2000-01-04</th>\n",
       "      <td>139.7500</td>\n",
       "    </tr>\n",
       "    <tr>\n",
       "      <th>2000-01-05</th>\n",
       "      <td>140.0000</td>\n",
       "    </tr>\n",
       "    <tr>\n",
       "      <th>2000-01-06</th>\n",
       "      <td>137.7500</td>\n",
       "    </tr>\n",
       "  </tbody>\n",
       "</table>\n",
       "</div>"
      ],
      "text/plain": [
       "               Close\n",
       "Date                \n",
       "1999-12-31  146.8750\n",
       "2000-01-03  145.4375\n",
       "2000-01-04  139.7500\n",
       "2000-01-05  140.0000\n",
       "2000-01-06  137.7500"
      ]
     },
     "execution_count": 7,
     "metadata": {},
     "output_type": "execute_result"
    }
   ],
   "source": [
    "df = spy[[\"Close\"]]\n",
    "df.head()"
   ]
  },
  {
   "cell_type": "code",
   "execution_count": 8,
   "id": "3a21174d",
   "metadata": {},
   "outputs": [
    {
     "data": {
      "text/html": [
       "<div>\n",
       "<style scoped>\n",
       "    .dataframe tbody tr th:only-of-type {\n",
       "        vertical-align: middle;\n",
       "    }\n",
       "\n",
       "    .dataframe tbody tr th {\n",
       "        vertical-align: top;\n",
       "    }\n",
       "\n",
       "    .dataframe thead th {\n",
       "        text-align: right;\n",
       "    }\n",
       "</style>\n",
       "<table border=\"1\" class=\"dataframe\">\n",
       "  <thead>\n",
       "    <tr style=\"text-align: right;\">\n",
       "      <th></th>\n",
       "      <th>Close</th>\n",
       "      <th>Pct</th>\n",
       "    </tr>\n",
       "    <tr>\n",
       "      <th>Date</th>\n",
       "      <th></th>\n",
       "      <th></th>\n",
       "    </tr>\n",
       "  </thead>\n",
       "  <tbody>\n",
       "    <tr>\n",
       "      <th>1999-12-31</th>\n",
       "      <td>146.8750</td>\n",
       "      <td>NaN</td>\n",
       "    </tr>\n",
       "    <tr>\n",
       "      <th>2000-01-03</th>\n",
       "      <td>145.4375</td>\n",
       "      <td>-0.978723</td>\n",
       "    </tr>\n",
       "    <tr>\n",
       "      <th>2000-01-04</th>\n",
       "      <td>139.7500</td>\n",
       "      <td>-3.910615</td>\n",
       "    </tr>\n",
       "    <tr>\n",
       "      <th>2000-01-05</th>\n",
       "      <td>140.0000</td>\n",
       "      <td>0.178891</td>\n",
       "    </tr>\n",
       "    <tr>\n",
       "      <th>2000-01-06</th>\n",
       "      <td>137.7500</td>\n",
       "      <td>-1.607143</td>\n",
       "    </tr>\n",
       "  </tbody>\n",
       "</table>\n",
       "</div>"
      ],
      "text/plain": [
       "               Close       Pct\n",
       "Date                          \n",
       "1999-12-31  146.8750       NaN\n",
       "2000-01-03  145.4375 -0.978723\n",
       "2000-01-04  139.7500 -3.910615\n",
       "2000-01-05  140.0000  0.178891\n",
       "2000-01-06  137.7500 -1.607143"
      ]
     },
     "execution_count": 8,
     "metadata": {},
     "output_type": "execute_result"
    }
   ],
   "source": [
    "df[\"Pct\"] = df.Close.pct_change(1)*100\n",
    "df.head()"
   ]
  },
  {
   "cell_type": "code",
   "execution_count": 9,
   "id": "d4986f3b",
   "metadata": {},
   "outputs": [],
   "source": [
    "# Splitting as train and test data.\n",
    "train = df.loc[:\"2018-01-01\"]\n",
    "test = df.loc[\"2018-01-01\" : ]"
   ]
  },
  {
   "cell_type": "code",
   "execution_count": 10,
   "id": "e6fba390",
   "metadata": {},
   "outputs": [
    {
     "data": {
      "text/plain": [
       "Text(0.5, 1.0, 'SPY Returns')"
      ]
     },
     "execution_count": 10,
     "metadata": {},
     "output_type": "execute_result"
    },
    {
     "data": {
      "image/png": "[encoded data removed]",
      "text/plain": [
       "<Figure size 1080x360 with 1 Axes>"
      ]
     },
     "metadata": {
      "needs_background": "light"
     },
     "output_type": "display_data"
    }
   ],
   "source": [
    "plt.figure(figsize=(15,5))\n",
    "plt.plot(df[\"Pct\"])\n",
    "plt.ylabel('Pct Return', fontsize=16)\n",
    "plt.title('SPY Returns', fontsize=20)"
   ]
  },
  {
   "cell_type": "markdown",
   "id": "71781442",
   "metadata": {},
   "source": [
    "### Stationary Test"
   ]
  },
  {
   "cell_type": "code",
   "execution_count": 11,
   "id": "284610e0",
   "metadata": {},
   "outputs": [],
   "source": [
    "from statsmodels.tsa.stattools import adfuller"
   ]
  },
  {
   "cell_type": "code",
   "execution_count": 12,
   "id": "c5c32976",
   "metadata": {},
   "outputs": [
    {
     "name": "stdout",
     "output_type": "stream",
     "text": [
      "Test Statistic                -1.358482e+01\n",
      "p-value                        2.090191e-25\n",
      "Lags Used                      3.300000e+01\n",
      "Number of observations Used    5.108000e+03\n",
      "dtype: float64\n"
     ]
    }
   ],
   "source": [
    "def adfuller_test(ts):\n",
    "    adfuller_result = adfuller(ts,autolag=None)\n",
    "    adfuller_out=pd.Series(adfuller_result[0:4],index=['Test Statistic','p-value','Lags Used','Number of observations Used'])\n",
    "    print(adfuller_out)\n",
    "adfuller_test(df.Pct[1:])"
   ]
  },
  {
   "cell_type": "markdown",
   "id": "b6b8cb9f",
   "metadata": {},
   "source": [
    "### p value is less than 0.05, so we can say data is stationary"
   ]
  },
  {
   "cell_type": "markdown",
   "id": "51692f86",
   "metadata": {},
   "source": [
    "## PACF"
   ]
  },
  {
   "cell_type": "code",
   "execution_count": 13,
   "id": "341bd7d0",
   "metadata": {},
   "outputs": [
    {
     "data": {
      "image/png": "[encoded data removed]",
      "text/plain": [
       "<Figure size 432x288 with 1 Axes>"
      ]
     },
     "metadata": {
      "needs_background": "light"
     },
     "output_type": "display_data"
    }
   ],
   "source": [
    "plot_pacf(df.Pct[1:]**2)\n",
    "plt.show()"
   ]
  },
  {
   "cell_type": "markdown",
   "id": "b7b9435e",
   "metadata": {},
   "source": [
    "PACF is more significant till 2 so we will proceed with GARCH(2,2) model"
   ]
  },
  {
   "cell_type": "markdown",
   "id": "c8d76d0f",
   "metadata": {},
   "source": [
    "## GARCH(2,2)"
   ]
  },
  {
   "cell_type": "code",
   "execution_count": 14,
   "id": "5664ebf7",
   "metadata": {},
   "outputs": [
    {
     "name": "stdout",
     "output_type": "stream",
     "text": [
      "Iteration:      5,   Func. Count:     49,   Neg. LLF: 2106766157.4072833\n",
      "Iteration:     10,   Func. Count:     89,   Neg. LLF: 7055.683636882406\n",
      "Optimization terminated successfully    (Exit mode 0)\n",
      "            Current function value: 7055.683621971442\n",
      "            Iterations: 12\n",
      "            Function evaluations: 102\n",
      "            Gradient evaluations: 12\n"
     ]
    },
    {
     "data": {
      "text/html": [
       "<table class=\"simpletable\">\n",
       "<caption>Constant Mean - GARCH Model Results</caption>\n",
       "<tr>\n",
       "  <th>Dep. Variable:</th>         <td>Pct</td>        <th>  R-squared:         </th>  <td>   0.000</td> \n",
       "</tr>\n",
       "<tr>\n",
       "  <th>Mean Model:</th>       <td>Constant Mean</td>   <th>  Adj. R-squared:    </th>  <td>   0.000</td> \n",
       "</tr>\n",
       "<tr>\n",
       "  <th>Vol Model:</th>            <td>GARCH</td>       <th>  Log-Likelihood:    </th> <td>  -7055.68</td>\n",
       "</tr>\n",
       "<tr>\n",
       "  <th>Distribution:</th>        <td>Normal</td>       <th>  AIC:               </th> <td>   14123.4</td>\n",
       "</tr>\n",
       "<tr>\n",
       "  <th>Method:</th>        <td>Maximum Likelihood</td> <th>  BIC:               </th> <td>   14162.6</td>\n",
       "</tr>\n",
       "<tr>\n",
       "  <th></th>                        <td></td>          <th>  No. Observations:  </th>    <td>5142</td>   \n",
       "</tr>\n",
       "<tr>\n",
       "  <th>Date:</th>           <td>Fri, Jan 28 2022</td>  <th>  Df Residuals:      </th>    <td>5141</td>   \n",
       "</tr>\n",
       "<tr>\n",
       "  <th>Time:</th>               <td>22:43:38</td>      <th>  Df Model:          </th>      <td>1</td>    \n",
       "</tr>\n",
       "</table>\n",
       "<table class=\"simpletable\">\n",
       "<caption>Mean Model</caption>\n",
       "<tr>\n",
       "   <td></td>     <th>coef</th>     <th>std err</th>      <th>t</th>       <th>P>|t|</th>     <th>95.0% Conf. Int.</th>   \n",
       "</tr>\n",
       "<tr>\n",
       "  <th>mu</th> <td>    0.0663</td> <td>1.096e-02</td> <td>    6.051</td> <td>1.437e-09</td> <td>[4.484e-02,8.780e-02]</td>\n",
       "</tr>\n",
       "</table>\n",
       "<table class=\"simpletable\">\n",
       "<caption>Volatility Model</caption>\n",
       "<tr>\n",
       "      <td></td>        <th>coef</th>     <th>std err</th>      <th>t</th>       <th>P>|t|</th>     <th>95.0% Conf. Int.</th>   \n",
       "</tr>\n",
       "<tr>\n",
       "  <th>omega</th>    <td>    0.0403</td> <td>9.924e-03</td> <td>    4.063</td> <td>4.838e-05</td> <td>[2.087e-02,5.978e-02]</td>\n",
       "</tr>\n",
       "<tr>\n",
       "  <th>alpha[1]</th> <td>    0.0805</td> <td>2.192e-02</td> <td>    3.672</td> <td>2.403e-04</td>  <td>[3.754e-02,  0.123]</td> \n",
       "</tr>\n",
       "<tr>\n",
       "  <th>alpha[2]</th> <td>    0.1319</td> <td>3.102e-02</td> <td>    4.253</td> <td>2.107e-05</td>  <td>[7.113e-02,  0.193]</td> \n",
       "</tr>\n",
       "<tr>\n",
       "  <th>beta[1]</th>  <td>    0.3103</td> <td>    0.296</td> <td>    1.047</td> <td>    0.295</td>   <td>[ -0.271,  0.891]</td>  \n",
       "</tr>\n",
       "<tr>\n",
       "  <th>beta[2]</th>  <td>    0.4483</td> <td>    0.261</td> <td>    1.718</td> <td>8.573e-02</td> <td>[-6.304e-02,  0.960]</td> \n",
       "</tr>\n",
       "</table><br/><br/>Covariance estimator: robust"
      ],
      "text/plain": [
       "<class 'statsmodels.iolib.summary.Summary'>\n",
       "\"\"\"\n",
       "                     Constant Mean - GARCH Model Results                      \n",
       "==============================================================================\n",
       "Dep. Variable:                    Pct   R-squared:                       0.000\n",
       "Mean Model:             Constant Mean   Adj. R-squared:                  0.000\n",
       "Vol Model:                      GARCH   Log-Likelihood:               -7055.68\n",
       "Distribution:                  Normal   AIC:                           14123.4\n",
       "Method:            Maximum Likelihood   BIC:                           14162.6\n",
       "                                        No. Observations:                 5142\n",
       "Date:                Fri, Jan 28 2022   Df Residuals:                     5141\n",
       "Time:                        22:43:38   Df Model:                            1\n",
       "                                 Mean Model                                 \n",
       "============================================================================\n",
       "                 coef    std err          t      P>|t|      95.0% Conf. Int.\n",
       "----------------------------------------------------------------------------\n",
       "mu             0.0663  1.096e-02      6.051  1.437e-09 [4.484e-02,8.780e-02]\n",
       "                              Volatility Model                              \n",
       "============================================================================\n",
       "                 coef    std err          t      P>|t|      95.0% Conf. Int.\n",
       "----------------------------------------------------------------------------\n",
       "omega          0.0403  9.924e-03      4.063  4.838e-05 [2.087e-02,5.978e-02]\n",
       "alpha[1]       0.0805  2.192e-02      3.672  2.403e-04   [3.754e-02,  0.123]\n",
       "alpha[2]       0.1319  3.102e-02      4.253  2.107e-05   [7.113e-02,  0.193]\n",
       "beta[1]        0.3103      0.296      1.047      0.295     [ -0.271,  0.891]\n",
       "beta[2]        0.4483      0.261      1.718  8.573e-02  [-6.304e-02,  0.960]\n",
       "============================================================================\n",
       "\n",
       "Covariance estimator: robust\n",
       "\"\"\""
      ]
     },
     "execution_count": 14,
     "metadata": {},
     "output_type": "execute_result"
    }
   ],
   "source": [
    "# GARCH with previous 2 residual and variance\n",
    "model_garch = arch_model(df.Pct[1:], mean = \"Constant\", vol = \"Garch\", p=2, q=2)\n",
    "results_garch = model_garch.fit(update_freq=5)\n",
    "results_garch.summary()"
   ]
  },
  {
   "cell_type": "markdown",
   "id": "0bbd6b41",
   "metadata": {},
   "source": [
    "beta[2] value is significant,so we will go with GARCH(2,2) model"
   ]
  },
  {
   "cell_type": "code",
   "execution_count": 15,
   "id": "22e7f2f3",
   "metadata": {},
   "outputs": [
    {
     "data": {
      "image/png": "[encoded data removed]",
      "text/plain": [
       "<Figure size 1152x576 with 1 Axes>"
      ]
     },
     "metadata": {
      "needs_background": "light"
     },
     "output_type": "display_data"
    }
   ],
   "source": [
    "y_hat = test.copy()\n",
    "predictions = results_garch.forecast(horizon=test.shape[0])\n",
    "predicted_array = predictions.variance.values[-1:]\n",
    "y_hat[\"GARCH(2,2)\"] = np.sqrt(predicted_array.tolist()[0])\n",
    "plt.figure(figsize=(16,8)) \n",
    "plt.plot( train['Pct'], label='Train') \n",
    "plt.plot(test['Pct'], label='Test') \n",
    "plt.plot(y_hat[\"GARCH(2,2)\"], label=\"GARCH(2,2)\") \n",
    "plt.legend(loc='best') \n",
    "plt.show()"
   ]
  },
  {
   "cell_type": "markdown",
   "id": "c71a11eb",
   "metadata": {},
   "source": [
    "#### The volatility is predicted in a much better way by GARCH as it takes both the previous error as well as the previous variance, hence is better for sudden shocks or bursts in data."
   ]
  }
 ],
 "metadata": {
  "kernelspec": {
   "display_name": "Python 3",
   "language": "python",
   "name": "python3"
  },
  "language_info": {
   "codemirror_mode": {
    "name": "ipython",
    "version": 3
   },
   "file_extension": ".py",
   "mimetype": "text/x-python",
   "name": "python",
   "nbconvert_exporter": "python",
   "pygments_lexer": "ipython3",
   "version": "3.8.8"
  }
 },
 "nbformat": 4,
 "nbformat_minor": 5
}
